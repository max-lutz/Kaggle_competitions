{
 "cells": [
  {
   "cell_type": "markdown",
   "metadata": {
    "papermill": {
     "duration": 0.032266,
     "end_time": "2021-07-02T03:02:43.620704",
     "exception": false,
     "start_time": "2021-07-02T03:02:43.588438",
     "status": "completed"
    },
    "tags": []
   },
   "source": [
    "# Titanic survival prediction"
   ]
  },
  {
   "cell_type": "markdown",
   "metadata": {
    "papermill": {
     "duration": 0.02955,
     "end_time": "2021-07-02T03:02:43.680282",
     "exception": false,
     "start_time": "2021-07-02T03:02:43.650732",
     "status": "completed"
    },
    "tags": []
   },
   "source": [
    "## Description of the notebook "
   ]
  },
  {
   "cell_type": "markdown",
   "metadata": {
    "papermill": {
     "duration": 0.029567,
     "end_time": "2021-07-02T03:02:43.739719",
     "exception": false,
     "start_time": "2021-07-02T03:02:43.710152",
     "status": "completed"
    },
    "tags": []
   },
   "source": [
    "This notebook is organized in 7 parts.\n",
    "\n",
    "1. Data acquisition: we will import the dataset and get a first glance at what it contains.\n",
    "\n",
    "2. Dataset exploratory analysis : we will analyze the data, get an understanding of the main features, of their types, if they have missing values...\n",
    "\n",
    "3. Features exploratory analysis : we will analyze the data,find the corelation between the features and the survival rate and decide which features to keep\n",
    "\n",
    "4. Data cleaning and feature selection : Select features that will be kept in the model and remove others, deal with missing values if there is any, create dummy variables for categories...\n",
    "\n",
    "5. Model preparation : prepare the train and test set and prepare the models we will use for the classification\n",
    "\n",
    "6. Pipeline evaluation and selection: We will run the models and get their scores, which will allow us the choose the best model.\n",
    "\n",
    "7. Predict : Final stage, we will run our final model to execute predictions."
   ]
  },
  {
   "cell_type": "markdown",
   "metadata": {
    "papermill": {
     "duration": 0.029326,
     "end_time": "2021-07-02T03:02:43.798412",
     "exception": false,
     "start_time": "2021-07-02T03:02:43.769086",
     "status": "completed"
    },
    "tags": []
   },
   "source": [
    "## 1. Data acquisition\n",
    "In this part we will just import the relevant libraries and import the trainig and test datasets.\n",
    "## Import libraries and dataset"
   ]
  },
  {
   "cell_type": "code",
   "execution_count": 1,
   "metadata": {
    "_cell_guid": "b1076dfc-b9ad-4769-8c92-a6c4dae69d19",
    "_uuid": "8f2839f25d086af736a60e9eeb907d3b93b6e0e5",
    "execution": {
     "iopub.execute_input": "2021-07-02T03:02:43.865828Z",
     "iopub.status.busy": "2021-07-02T03:02:43.865194Z",
     "iopub.status.idle": "2021-07-02T03:02:45.230272Z",
     "shell.execute_reply": "2021-07-02T03:02:45.229664Z",
     "shell.execute_reply.started": "2021-07-02T02:43:33.046380Z"
    },
    "papermill": {
     "duration": 1.402701,
     "end_time": "2021-07-02T03:02:45.230463",
     "exception": false,
     "start_time": "2021-07-02T03:02:43.827762",
     "status": "completed"
    },
    "tags": []
   },
   "outputs": [],
   "source": [
    "import numpy as np\n",
    "import pandas as pd\n",
    "import seaborn as sns\n",
    "import matplotlib.pyplot as plt\n",
    "from sklearn.linear_model import LogisticRegression\n",
    "from sklearn.svm import SVC, LinearSVC\n",
    "from sklearn.ensemble import RandomForestClassifier\n",
    "from sklearn.neighbors import KNeighborsClassifier\n",
    "from sklearn.naive_bayes import GaussianNB\n",
    "from sklearn.linear_model import Perceptron\n",
    "from sklearn.linear_model import SGDClassifier\n",
    "from sklearn.tree import DecisionTreeClassifier\n",
    "\n",
    "from sklearn.model_selection import train_test_split\n",
    "\n",
    "from sklearn.model_selection import cross_val_score\n",
    "from sklearn.model_selection import GridSearchCV\n",
    "from sklearn.model_selection import KFold\n",
    "\n",
    "sns.set_style('darkgrid')\n",
    "%matplotlib inline"
   ]
  },
  {
   "cell_type": "code",
   "execution_count": 2,
   "metadata": {
    "execution": {
     "iopub.execute_input": "2021-07-02T03:02:45.295474Z",
     "iopub.status.busy": "2021-07-02T03:02:45.294710Z",
     "iopub.status.idle": "2021-07-02T03:02:45.320256Z",
     "shell.execute_reply": "2021-07-02T03:02:45.319796Z",
     "shell.execute_reply.started": "2021-07-02T02:43:33.084230Z"
    },
    "papermill": {
     "duration": 0.059663,
     "end_time": "2021-07-02T03:02:45.320405",
     "exception": false,
     "start_time": "2021-07-02T03:02:45.260742",
     "status": "completed"
    },
    "tags": []
   },
   "outputs": [],
   "source": [
    "dataset_train = pd.read_csv(\"/kaggle/input/titanic/train.csv\")\n",
    "dataset_test = pd.read_csv(\"/kaggle/input/titanic/test.csv\")"
   ]
  },
  {
   "cell_type": "markdown",
   "metadata": {
    "papermill": {
     "duration": 0.034797,
     "end_time": "2021-07-02T03:02:45.388652",
     "exception": false,
     "start_time": "2021-07-02T03:02:45.353855",
     "status": "completed"
    },
    "tags": []
   },
   "source": [
    "## 2. Dataset Exploratory analysis\n",
    "In this section we will check the number and types of features for the dataset, if there is missing values, if there is corelation between some features, if we can remove some unnecessary features and if we can create new features from the ones we already have"
   ]
  },
  {
   "cell_type": "code",
   "execution_count": 3,
   "metadata": {
    "execution": {
     "iopub.execute_input": "2021-07-02T03:02:45.459079Z",
     "iopub.status.busy": "2021-07-02T03:02:45.458222Z",
     "iopub.status.idle": "2021-07-02T03:02:45.461128Z",
     "shell.execute_reply": "2021-07-02T03:02:45.460702Z",
     "shell.execute_reply.started": "2021-07-02T02:43:33.113063Z"
    },
    "papermill": {
     "duration": 0.037159,
     "end_time": "2021-07-02T03:02:45.461254",
     "exception": false,
     "start_time": "2021-07-02T03:02:45.424095",
     "status": "completed"
    },
    "tags": []
   },
   "outputs": [],
   "source": [
    "def screen_data(df):\n",
    "    rows = []\n",
    "    for col in df.columns:\n",
    "        rows.append([col, df[col].isnull().sum(), df[col].nunique(), df[col].dtypes])\n",
    "    print(pd.DataFrame(rows, columns=['Col', 'Missing values', 'Unique values', 'Type']))"
   ]
  },
  {
   "cell_type": "code",
   "execution_count": 4,
   "metadata": {
    "execution": {
     "iopub.execute_input": "2021-07-02T03:02:45.538193Z",
     "iopub.status.busy": "2021-07-02T03:02:45.537212Z",
     "iopub.status.idle": "2021-07-02T03:02:45.565460Z",
     "shell.execute_reply": "2021-07-02T03:02:45.564919Z",
     "shell.execute_reply.started": "2021-07-02T02:43:33.129787Z"
    },
    "papermill": {
     "duration": 0.075095,
     "end_time": "2021-07-02T03:02:45.565653",
     "exception": false,
     "start_time": "2021-07-02T03:02:45.490558",
     "status": "completed"
    },
    "tags": []
   },
   "outputs": [
    {
     "name": "stdout",
     "output_type": "stream",
     "text": [
      "            Col  Missing values  Unique values     Type\n",
      "0   PassengerId               0            891    int64\n",
      "1      Survived               0              2    int64\n",
      "2        Pclass               0              3    int64\n",
      "3          Name               0            891   object\n",
      "4           Sex               0              2   object\n",
      "5           Age             177             88  float64\n",
      "6         SibSp               0              7    int64\n",
      "7         Parch               0              7    int64\n",
      "8        Ticket               0            681   object\n",
      "9          Fare               0            248  float64\n",
      "10        Cabin             687            147   object\n",
      "11     Embarked               2              3   object\n"
     ]
    }
   ],
   "source": [
    "screen_data(dataset_train)"
   ]
  },
  {
   "cell_type": "code",
   "execution_count": 5,
   "metadata": {
    "execution": {
     "iopub.execute_input": "2021-07-02T03:02:45.640996Z",
     "iopub.status.busy": "2021-07-02T03:02:45.638405Z",
     "iopub.status.idle": "2021-07-02T03:02:45.650776Z",
     "shell.execute_reply": "2021-07-02T03:02:45.650057Z",
     "shell.execute_reply.started": "2021-07-02T02:43:33.148494Z"
    },
    "papermill": {
     "duration": 0.054087,
     "end_time": "2021-07-02T03:02:45.650971",
     "exception": false,
     "start_time": "2021-07-02T03:02:45.596884",
     "status": "completed"
    },
    "tags": []
   },
   "outputs": [
    {
     "name": "stdout",
     "output_type": "stream",
     "text": [
      "            Col  Missing values  Unique values     Type\n",
      "0   PassengerId               0            418    int64\n",
      "1        Pclass               0              3    int64\n",
      "2          Name               0            418   object\n",
      "3           Sex               0              2   object\n",
      "4           Age              86             79  float64\n",
      "5         SibSp               0              7    int64\n",
      "6         Parch               0              8    int64\n",
      "7        Ticket               0            363   object\n",
      "8          Fare               1            169  float64\n",
      "9         Cabin             327             76   object\n",
      "10     Embarked               0              3   object\n"
     ]
    }
   ],
   "source": [
    "screen_data(dataset_test)"
   ]
  },
  {
   "cell_type": "markdown",
   "metadata": {
    "papermill": {
     "duration": 0.029585,
     "end_time": "2021-07-02T03:02:45.711571",
     "exception": false,
     "start_time": "2021-07-02T03:02:45.681986",
     "status": "completed"
    },
    "tags": []
   },
   "source": [
    "## Preliminary infos we can get from the data screening\n",
    "Here we can see that for dataset_train, three features have **missing data** (*age, cabin and embarked*)\n",
    "For the dataset_test, there is also three features with **missing data** (*age, cabin and fare*)\n",
    "\n",
    "We can also see that most features are **numerical** (*PassengerId, Survived, Pclass, Age, SibSP, ParCh and fare*) <br>\n",
    "some are object type with **categories** (*Sex, Embarked*) <br>\n",
    "and some are **string** (*Name, Ticket, cabin*) <br>\n",
    "\n",
    "Cabin and age are missing a lot of value in both datasets, our exploratory analysis will tell us if we need to estimate the missing of value or if we can drop these features.\n",
    "\n",
    "Now let's print some rows from the dataset"
   ]
  },
  {
   "cell_type": "code",
   "execution_count": 6,
   "metadata": {
    "execution": {
     "iopub.execute_input": "2021-07-02T03:02:45.797946Z",
     "iopub.status.busy": "2021-07-02T03:02:45.797272Z",
     "iopub.status.idle": "2021-07-02T03:02:45.815210Z",
     "shell.execute_reply": "2021-07-02T03:02:45.815878Z",
     "shell.execute_reply.started": "2021-07-02T02:43:33.175592Z"
    },
    "papermill": {
     "duration": 0.069857,
     "end_time": "2021-07-02T03:02:45.816080",
     "exception": false,
     "start_time": "2021-07-02T03:02:45.746223",
     "status": "completed"
    },
    "tags": []
   },
   "outputs": [
    {
     "data": {
      "text/html": [
       "<div>\n",
       "<style scoped>\n",
       "    .dataframe tbody tr th:only-of-type {\n",
       "        vertical-align: middle;\n",
       "    }\n",
       "\n",
       "    .dataframe tbody tr th {\n",
       "        vertical-align: top;\n",
       "    }\n",
       "\n",
       "    .dataframe thead th {\n",
       "        text-align: right;\n",
       "    }\n",
       "</style>\n",
       "<table border=\"1\" class=\"dataframe\">\n",
       "  <thead>\n",
       "    <tr style=\"text-align: right;\">\n",
       "      <th></th>\n",
       "      <th>PassengerId</th>\n",
       "      <th>Survived</th>\n",
       "      <th>Pclass</th>\n",
       "      <th>Name</th>\n",
       "      <th>Sex</th>\n",
       "      <th>Age</th>\n",
       "      <th>SibSp</th>\n",
       "      <th>Parch</th>\n",
       "      <th>Ticket</th>\n",
       "      <th>Fare</th>\n",
       "      <th>Cabin</th>\n",
       "      <th>Embarked</th>\n",
       "    </tr>\n",
       "  </thead>\n",
       "  <tbody>\n",
       "    <tr>\n",
       "      <th>0</th>\n",
       "      <td>1</td>\n",
       "      <td>0</td>\n",
       "      <td>3</td>\n",
       "      <td>Braund, Mr. Owen Harris</td>\n",
       "      <td>male</td>\n",
       "      <td>22.0</td>\n",
       "      <td>1</td>\n",
       "      <td>0</td>\n",
       "      <td>A/5 21171</td>\n",
       "      <td>7.2500</td>\n",
       "      <td>NaN</td>\n",
       "      <td>S</td>\n",
       "    </tr>\n",
       "    <tr>\n",
       "      <th>1</th>\n",
       "      <td>2</td>\n",
       "      <td>1</td>\n",
       "      <td>1</td>\n",
       "      <td>Cumings, Mrs. John Bradley (Florence Briggs Th...</td>\n",
       "      <td>female</td>\n",
       "      <td>38.0</td>\n",
       "      <td>1</td>\n",
       "      <td>0</td>\n",
       "      <td>PC 17599</td>\n",
       "      <td>71.2833</td>\n",
       "      <td>C85</td>\n",
       "      <td>C</td>\n",
       "    </tr>\n",
       "    <tr>\n",
       "      <th>2</th>\n",
       "      <td>3</td>\n",
       "      <td>1</td>\n",
       "      <td>3</td>\n",
       "      <td>Heikkinen, Miss. Laina</td>\n",
       "      <td>female</td>\n",
       "      <td>26.0</td>\n",
       "      <td>0</td>\n",
       "      <td>0</td>\n",
       "      <td>STON/O2. 3101282</td>\n",
       "      <td>7.9250</td>\n",
       "      <td>NaN</td>\n",
       "      <td>S</td>\n",
       "    </tr>\n",
       "    <tr>\n",
       "      <th>3</th>\n",
       "      <td>4</td>\n",
       "      <td>1</td>\n",
       "      <td>1</td>\n",
       "      <td>Futrelle, Mrs. Jacques Heath (Lily May Peel)</td>\n",
       "      <td>female</td>\n",
       "      <td>35.0</td>\n",
       "      <td>1</td>\n",
       "      <td>0</td>\n",
       "      <td>113803</td>\n",
       "      <td>53.1000</td>\n",
       "      <td>C123</td>\n",
       "      <td>S</td>\n",
       "    </tr>\n",
       "    <tr>\n",
       "      <th>4</th>\n",
       "      <td>5</td>\n",
       "      <td>0</td>\n",
       "      <td>3</td>\n",
       "      <td>Allen, Mr. William Henry</td>\n",
       "      <td>male</td>\n",
       "      <td>35.0</td>\n",
       "      <td>0</td>\n",
       "      <td>0</td>\n",
       "      <td>373450</td>\n",
       "      <td>8.0500</td>\n",
       "      <td>NaN</td>\n",
       "      <td>S</td>\n",
       "    </tr>\n",
       "    <tr>\n",
       "      <th>5</th>\n",
       "      <td>6</td>\n",
       "      <td>0</td>\n",
       "      <td>3</td>\n",
       "      <td>Moran, Mr. James</td>\n",
       "      <td>male</td>\n",
       "      <td>NaN</td>\n",
       "      <td>0</td>\n",
       "      <td>0</td>\n",
       "      <td>330877</td>\n",
       "      <td>8.4583</td>\n",
       "      <td>NaN</td>\n",
       "      <td>Q</td>\n",
       "    </tr>\n",
       "    <tr>\n",
       "      <th>6</th>\n",
       "      <td>7</td>\n",
       "      <td>0</td>\n",
       "      <td>1</td>\n",
       "      <td>McCarthy, Mr. Timothy J</td>\n",
       "      <td>male</td>\n",
       "      <td>54.0</td>\n",
       "      <td>0</td>\n",
       "      <td>0</td>\n",
       "      <td>17463</td>\n",
       "      <td>51.8625</td>\n",
       "      <td>E46</td>\n",
       "      <td>S</td>\n",
       "    </tr>\n",
       "    <tr>\n",
       "      <th>7</th>\n",
       "      <td>8</td>\n",
       "      <td>0</td>\n",
       "      <td>3</td>\n",
       "      <td>Palsson, Master. Gosta Leonard</td>\n",
       "      <td>male</td>\n",
       "      <td>2.0</td>\n",
       "      <td>3</td>\n",
       "      <td>1</td>\n",
       "      <td>349909</td>\n",
       "      <td>21.0750</td>\n",
       "      <td>NaN</td>\n",
       "      <td>S</td>\n",
       "    </tr>\n",
       "    <tr>\n",
       "      <th>8</th>\n",
       "      <td>9</td>\n",
       "      <td>1</td>\n",
       "      <td>3</td>\n",
       "      <td>Johnson, Mrs. Oscar W (Elisabeth Vilhelmina Berg)</td>\n",
       "      <td>female</td>\n",
       "      <td>27.0</td>\n",
       "      <td>0</td>\n",
       "      <td>2</td>\n",
       "      <td>347742</td>\n",
       "      <td>11.1333</td>\n",
       "      <td>NaN</td>\n",
       "      <td>S</td>\n",
       "    </tr>\n",
       "    <tr>\n",
       "      <th>9</th>\n",
       "      <td>10</td>\n",
       "      <td>1</td>\n",
       "      <td>2</td>\n",
       "      <td>Nasser, Mrs. Nicholas (Adele Achem)</td>\n",
       "      <td>female</td>\n",
       "      <td>14.0</td>\n",
       "      <td>1</td>\n",
       "      <td>0</td>\n",
       "      <td>237736</td>\n",
       "      <td>30.0708</td>\n",
       "      <td>NaN</td>\n",
       "      <td>C</td>\n",
       "    </tr>\n",
       "  </tbody>\n",
       "</table>\n",
       "</div>"
      ],
      "text/plain": [
       "   PassengerId  Survived  Pclass  \\\n",
       "0            1         0       3   \n",
       "1            2         1       1   \n",
       "2            3         1       3   \n",
       "3            4         1       1   \n",
       "4            5         0       3   \n",
       "5            6         0       3   \n",
       "6            7         0       1   \n",
       "7            8         0       3   \n",
       "8            9         1       3   \n",
       "9           10         1       2   \n",
       "\n",
       "                                                Name     Sex   Age  SibSp  \\\n",
       "0                            Braund, Mr. Owen Harris    male  22.0      1   \n",
       "1  Cumings, Mrs. John Bradley (Florence Briggs Th...  female  38.0      1   \n",
       "2                             Heikkinen, Miss. Laina  female  26.0      0   \n",
       "3       Futrelle, Mrs. Jacques Heath (Lily May Peel)  female  35.0      1   \n",
       "4                           Allen, Mr. William Henry    male  35.0      0   \n",
       "5                                   Moran, Mr. James    male   NaN      0   \n",
       "6                            McCarthy, Mr. Timothy J    male  54.0      0   \n",
       "7                     Palsson, Master. Gosta Leonard    male   2.0      3   \n",
       "8  Johnson, Mrs. Oscar W (Elisabeth Vilhelmina Berg)  female  27.0      0   \n",
       "9                Nasser, Mrs. Nicholas (Adele Achem)  female  14.0      1   \n",
       "\n",
       "   Parch            Ticket     Fare Cabin Embarked  \n",
       "0      0         A/5 21171   7.2500   NaN        S  \n",
       "1      0          PC 17599  71.2833   C85        C  \n",
       "2      0  STON/O2. 3101282   7.9250   NaN        S  \n",
       "3      0            113803  53.1000  C123        S  \n",
       "4      0            373450   8.0500   NaN        S  \n",
       "5      0            330877   8.4583   NaN        Q  \n",
       "6      0             17463  51.8625   E46        S  \n",
       "7      1            349909  21.0750   NaN        S  \n",
       "8      2            347742  11.1333   NaN        S  \n",
       "9      0            237736  30.0708   NaN        C  "
      ]
     },
     "execution_count": 6,
     "metadata": {},
     "output_type": "execute_result"
    }
   ],
   "source": [
    "dataset_train.head(10)"
   ]
  },
  {
   "cell_type": "code",
   "execution_count": 7,
   "metadata": {
    "execution": {
     "iopub.execute_input": "2021-07-02T03:02:45.885143Z",
     "iopub.status.busy": "2021-07-02T03:02:45.884574Z",
     "iopub.status.idle": "2021-07-02T03:02:45.900423Z",
     "shell.execute_reply": "2021-07-02T03:02:45.900834Z",
     "shell.execute_reply.started": "2021-07-02T02:43:33.240461Z"
    },
    "papermill": {
     "duration": 0.05061,
     "end_time": "2021-07-02T03:02:45.901006",
     "exception": false,
     "start_time": "2021-07-02T03:02:45.850396",
     "status": "completed"
    },
    "tags": []
   },
   "outputs": [
    {
     "data": {
      "text/html": [
       "<div>\n",
       "<style scoped>\n",
       "    .dataframe tbody tr th:only-of-type {\n",
       "        vertical-align: middle;\n",
       "    }\n",
       "\n",
       "    .dataframe tbody tr th {\n",
       "        vertical-align: top;\n",
       "    }\n",
       "\n",
       "    .dataframe thead th {\n",
       "        text-align: right;\n",
       "    }\n",
       "</style>\n",
       "<table border=\"1\" class=\"dataframe\">\n",
       "  <thead>\n",
       "    <tr style=\"text-align: right;\">\n",
       "      <th></th>\n",
       "      <th>PassengerId</th>\n",
       "      <th>Pclass</th>\n",
       "      <th>Name</th>\n",
       "      <th>Sex</th>\n",
       "      <th>Age</th>\n",
       "      <th>SibSp</th>\n",
       "      <th>Parch</th>\n",
       "      <th>Ticket</th>\n",
       "      <th>Fare</th>\n",
       "      <th>Cabin</th>\n",
       "      <th>Embarked</th>\n",
       "    </tr>\n",
       "  </thead>\n",
       "  <tbody>\n",
       "    <tr>\n",
       "      <th>0</th>\n",
       "      <td>892</td>\n",
       "      <td>3</td>\n",
       "      <td>Kelly, Mr. James</td>\n",
       "      <td>male</td>\n",
       "      <td>34.5</td>\n",
       "      <td>0</td>\n",
       "      <td>0</td>\n",
       "      <td>330911</td>\n",
       "      <td>7.8292</td>\n",
       "      <td>NaN</td>\n",
       "      <td>Q</td>\n",
       "    </tr>\n",
       "    <tr>\n",
       "      <th>1</th>\n",
       "      <td>893</td>\n",
       "      <td>3</td>\n",
       "      <td>Wilkes, Mrs. James (Ellen Needs)</td>\n",
       "      <td>female</td>\n",
       "      <td>47.0</td>\n",
       "      <td>1</td>\n",
       "      <td>0</td>\n",
       "      <td>363272</td>\n",
       "      <td>7.0000</td>\n",
       "      <td>NaN</td>\n",
       "      <td>S</td>\n",
       "    </tr>\n",
       "    <tr>\n",
       "      <th>2</th>\n",
       "      <td>894</td>\n",
       "      <td>2</td>\n",
       "      <td>Myles, Mr. Thomas Francis</td>\n",
       "      <td>male</td>\n",
       "      <td>62.0</td>\n",
       "      <td>0</td>\n",
       "      <td>0</td>\n",
       "      <td>240276</td>\n",
       "      <td>9.6875</td>\n",
       "      <td>NaN</td>\n",
       "      <td>Q</td>\n",
       "    </tr>\n",
       "    <tr>\n",
       "      <th>3</th>\n",
       "      <td>895</td>\n",
       "      <td>3</td>\n",
       "      <td>Wirz, Mr. Albert</td>\n",
       "      <td>male</td>\n",
       "      <td>27.0</td>\n",
       "      <td>0</td>\n",
       "      <td>0</td>\n",
       "      <td>315154</td>\n",
       "      <td>8.6625</td>\n",
       "      <td>NaN</td>\n",
       "      <td>S</td>\n",
       "    </tr>\n",
       "    <tr>\n",
       "      <th>4</th>\n",
       "      <td>896</td>\n",
       "      <td>3</td>\n",
       "      <td>Hirvonen, Mrs. Alexander (Helga E Lindqvist)</td>\n",
       "      <td>female</td>\n",
       "      <td>22.0</td>\n",
       "      <td>1</td>\n",
       "      <td>1</td>\n",
       "      <td>3101298</td>\n",
       "      <td>12.2875</td>\n",
       "      <td>NaN</td>\n",
       "      <td>S</td>\n",
       "    </tr>\n",
       "    <tr>\n",
       "      <th>5</th>\n",
       "      <td>897</td>\n",
       "      <td>3</td>\n",
       "      <td>Svensson, Mr. Johan Cervin</td>\n",
       "      <td>male</td>\n",
       "      <td>14.0</td>\n",
       "      <td>0</td>\n",
       "      <td>0</td>\n",
       "      <td>7538</td>\n",
       "      <td>9.2250</td>\n",
       "      <td>NaN</td>\n",
       "      <td>S</td>\n",
       "    </tr>\n",
       "    <tr>\n",
       "      <th>6</th>\n",
       "      <td>898</td>\n",
       "      <td>3</td>\n",
       "      <td>Connolly, Miss. Kate</td>\n",
       "      <td>female</td>\n",
       "      <td>30.0</td>\n",
       "      <td>0</td>\n",
       "      <td>0</td>\n",
       "      <td>330972</td>\n",
       "      <td>7.6292</td>\n",
       "      <td>NaN</td>\n",
       "      <td>Q</td>\n",
       "    </tr>\n",
       "    <tr>\n",
       "      <th>7</th>\n",
       "      <td>899</td>\n",
       "      <td>2</td>\n",
       "      <td>Caldwell, Mr. Albert Francis</td>\n",
       "      <td>male</td>\n",
       "      <td>26.0</td>\n",
       "      <td>1</td>\n",
       "      <td>1</td>\n",
       "      <td>248738</td>\n",
       "      <td>29.0000</td>\n",
       "      <td>NaN</td>\n",
       "      <td>S</td>\n",
       "    </tr>\n",
       "    <tr>\n",
       "      <th>8</th>\n",
       "      <td>900</td>\n",
       "      <td>3</td>\n",
       "      <td>Abrahim, Mrs. Joseph (Sophie Halaut Easu)</td>\n",
       "      <td>female</td>\n",
       "      <td>18.0</td>\n",
       "      <td>0</td>\n",
       "      <td>0</td>\n",
       "      <td>2657</td>\n",
       "      <td>7.2292</td>\n",
       "      <td>NaN</td>\n",
       "      <td>C</td>\n",
       "    </tr>\n",
       "    <tr>\n",
       "      <th>9</th>\n",
       "      <td>901</td>\n",
       "      <td>3</td>\n",
       "      <td>Davies, Mr. John Samuel</td>\n",
       "      <td>male</td>\n",
       "      <td>21.0</td>\n",
       "      <td>2</td>\n",
       "      <td>0</td>\n",
       "      <td>A/4 48871</td>\n",
       "      <td>24.1500</td>\n",
       "      <td>NaN</td>\n",
       "      <td>S</td>\n",
       "    </tr>\n",
       "  </tbody>\n",
       "</table>\n",
       "</div>"
      ],
      "text/plain": [
       "   PassengerId  Pclass                                          Name     Sex  \\\n",
       "0          892       3                              Kelly, Mr. James    male   \n",
       "1          893       3              Wilkes, Mrs. James (Ellen Needs)  female   \n",
       "2          894       2                     Myles, Mr. Thomas Francis    male   \n",
       "3          895       3                              Wirz, Mr. Albert    male   \n",
       "4          896       3  Hirvonen, Mrs. Alexander (Helga E Lindqvist)  female   \n",
       "5          897       3                    Svensson, Mr. Johan Cervin    male   \n",
       "6          898       3                          Connolly, Miss. Kate  female   \n",
       "7          899       2                  Caldwell, Mr. Albert Francis    male   \n",
       "8          900       3     Abrahim, Mrs. Joseph (Sophie Halaut Easu)  female   \n",
       "9          901       3                       Davies, Mr. John Samuel    male   \n",
       "\n",
       "    Age  SibSp  Parch     Ticket     Fare Cabin Embarked  \n",
       "0  34.5      0      0     330911   7.8292   NaN        Q  \n",
       "1  47.0      1      0     363272   7.0000   NaN        S  \n",
       "2  62.0      0      0     240276   9.6875   NaN        Q  \n",
       "3  27.0      0      0     315154   8.6625   NaN        S  \n",
       "4  22.0      1      1    3101298  12.2875   NaN        S  \n",
       "5  14.0      0      0       7538   9.2250   NaN        S  \n",
       "6  30.0      0      0     330972   7.6292   NaN        Q  \n",
       "7  26.0      1      1     248738  29.0000   NaN        S  \n",
       "8  18.0      0      0       2657   7.2292   NaN        C  \n",
       "9  21.0      2      0  A/4 48871  24.1500   NaN        S  "
      ]
     },
     "execution_count": 7,
     "metadata": {},
     "output_type": "execute_result"
    }
   ],
   "source": [
    "dataset_test.head(10)"
   ]
  },
  {
   "cell_type": "markdown",
   "metadata": {
    "papermill": {
     "duration": 0.030645,
     "end_time": "2021-07-02T03:02:45.963336",
     "exception": false,
     "start_time": "2021-07-02T03:02:45.932691",
     "status": "completed"
    },
    "tags": []
   },
   "source": [
    "## Preliminary infos we can get from the data\n",
    "- The passengerId probably does not give any information on the survivability. <br>\n",
    "- There is always a title in the name column which might give us further information. <br>\n",
    "- Some people have a non round age, we will see what to do about it. <br>\n",
    "- The cabin seems to have a letter associated with it, we might extract to see if it can be link to survivability. <br>\n",
    "\n",
    "Let's see if we can bet any additional infos about the numerical data."
   ]
  },
  {
   "cell_type": "code",
   "execution_count": 8,
   "metadata": {
    "execution": {
     "iopub.execute_input": "2021-07-02T03:02:46.033389Z",
     "iopub.status.busy": "2021-07-02T03:02:46.032600Z",
     "iopub.status.idle": "2021-07-02T03:02:46.057818Z",
     "shell.execute_reply": "2021-07-02T03:02:46.057252Z",
     "shell.execute_reply.started": "2021-07-02T02:43:33.278814Z"
    },
    "papermill": {
     "duration": 0.0635,
     "end_time": "2021-07-02T03:02:46.057953",
     "exception": false,
     "start_time": "2021-07-02T03:02:45.994453",
     "status": "completed"
    },
    "tags": []
   },
   "outputs": [
    {
     "data": {
      "text/html": [
       "<div>\n",
       "<style scoped>\n",
       "    .dataframe tbody tr th:only-of-type {\n",
       "        vertical-align: middle;\n",
       "    }\n",
       "\n",
       "    .dataframe tbody tr th {\n",
       "        vertical-align: top;\n",
       "    }\n",
       "\n",
       "    .dataframe thead th {\n",
       "        text-align: right;\n",
       "    }\n",
       "</style>\n",
       "<table border=\"1\" class=\"dataframe\">\n",
       "  <thead>\n",
       "    <tr style=\"text-align: right;\">\n",
       "      <th></th>\n",
       "      <th>PassengerId</th>\n",
       "      <th>Survived</th>\n",
       "      <th>Pclass</th>\n",
       "      <th>Age</th>\n",
       "      <th>SibSp</th>\n",
       "      <th>Parch</th>\n",
       "      <th>Fare</th>\n",
       "    </tr>\n",
       "  </thead>\n",
       "  <tbody>\n",
       "    <tr>\n",
       "      <th>count</th>\n",
       "      <td>891.000000</td>\n",
       "      <td>891.000000</td>\n",
       "      <td>891.000000</td>\n",
       "      <td>714.000000</td>\n",
       "      <td>891.000000</td>\n",
       "      <td>891.000000</td>\n",
       "      <td>891.000000</td>\n",
       "    </tr>\n",
       "    <tr>\n",
       "      <th>mean</th>\n",
       "      <td>446.000000</td>\n",
       "      <td>0.383838</td>\n",
       "      <td>2.308642</td>\n",
       "      <td>29.699118</td>\n",
       "      <td>0.523008</td>\n",
       "      <td>0.381594</td>\n",
       "      <td>32.204208</td>\n",
       "    </tr>\n",
       "    <tr>\n",
       "      <th>std</th>\n",
       "      <td>257.353842</td>\n",
       "      <td>0.486592</td>\n",
       "      <td>0.836071</td>\n",
       "      <td>14.526497</td>\n",
       "      <td>1.102743</td>\n",
       "      <td>0.806057</td>\n",
       "      <td>49.693429</td>\n",
       "    </tr>\n",
       "    <tr>\n",
       "      <th>min</th>\n",
       "      <td>1.000000</td>\n",
       "      <td>0.000000</td>\n",
       "      <td>1.000000</td>\n",
       "      <td>0.420000</td>\n",
       "      <td>0.000000</td>\n",
       "      <td>0.000000</td>\n",
       "      <td>0.000000</td>\n",
       "    </tr>\n",
       "    <tr>\n",
       "      <th>25%</th>\n",
       "      <td>223.500000</td>\n",
       "      <td>0.000000</td>\n",
       "      <td>2.000000</td>\n",
       "      <td>20.125000</td>\n",
       "      <td>0.000000</td>\n",
       "      <td>0.000000</td>\n",
       "      <td>7.910400</td>\n",
       "    </tr>\n",
       "    <tr>\n",
       "      <th>50%</th>\n",
       "      <td>446.000000</td>\n",
       "      <td>0.000000</td>\n",
       "      <td>3.000000</td>\n",
       "      <td>28.000000</td>\n",
       "      <td>0.000000</td>\n",
       "      <td>0.000000</td>\n",
       "      <td>14.454200</td>\n",
       "    </tr>\n",
       "    <tr>\n",
       "      <th>75%</th>\n",
       "      <td>668.500000</td>\n",
       "      <td>1.000000</td>\n",
       "      <td>3.000000</td>\n",
       "      <td>38.000000</td>\n",
       "      <td>1.000000</td>\n",
       "      <td>0.000000</td>\n",
       "      <td>31.000000</td>\n",
       "    </tr>\n",
       "    <tr>\n",
       "      <th>max</th>\n",
       "      <td>891.000000</td>\n",
       "      <td>1.000000</td>\n",
       "      <td>3.000000</td>\n",
       "      <td>80.000000</td>\n",
       "      <td>8.000000</td>\n",
       "      <td>6.000000</td>\n",
       "      <td>512.329200</td>\n",
       "    </tr>\n",
       "  </tbody>\n",
       "</table>\n",
       "</div>"
      ],
      "text/plain": [
       "       PassengerId    Survived      Pclass         Age       SibSp  \\\n",
       "count   891.000000  891.000000  891.000000  714.000000  891.000000   \n",
       "mean    446.000000    0.383838    2.308642   29.699118    0.523008   \n",
       "std     257.353842    0.486592    0.836071   14.526497    1.102743   \n",
       "min       1.000000    0.000000    1.000000    0.420000    0.000000   \n",
       "25%     223.500000    0.000000    2.000000   20.125000    0.000000   \n",
       "50%     446.000000    0.000000    3.000000   28.000000    0.000000   \n",
       "75%     668.500000    1.000000    3.000000   38.000000    1.000000   \n",
       "max     891.000000    1.000000    3.000000   80.000000    8.000000   \n",
       "\n",
       "            Parch        Fare  \n",
       "count  891.000000  891.000000  \n",
       "mean     0.381594   32.204208  \n",
       "std      0.806057   49.693429  \n",
       "min      0.000000    0.000000  \n",
       "25%      0.000000    7.910400  \n",
       "50%      0.000000   14.454200  \n",
       "75%      0.000000   31.000000  \n",
       "max      6.000000  512.329200  "
      ]
     },
     "execution_count": 8,
     "metadata": {},
     "output_type": "execute_result"
    }
   ],
   "source": [
    "dataset_train.describe()"
   ]
  },
  {
   "cell_type": "markdown",
   "metadata": {
    "papermill": {
     "duration": 0.031421,
     "end_time": "2021-07-02T03:02:46.121465",
     "exception": false,
     "start_time": "2021-07-02T03:02:46.090044",
     "status": "completed"
    },
    "tags": []
   },
   "source": [
    "## Preliminary infos we can get from the numerical data\n",
    "- The average survival rate is 38%. <br>\n",
    "- More than 50% of the passengers are in the Pclass number 3. <br>\n",
    "- Most passengers are between 20 and 40 years old with the minimum being 0.42 and the maximum being 80 years old. <br>\n",
    "- More than 50% of the passengers travel alone (0 in SibSp and Parch). <br>\n",
    "- The minimum fare is 0 which might be an error and the maximum is 512 with is also and extreme value considering a mean value of 32 and a std of 50. <br>\n",
    "\n",
    "Let's see if we can bet any additional infos about the correlation of the data."
   ]
  },
  {
   "cell_type": "code",
   "execution_count": 9,
   "metadata": {
    "execution": {
     "iopub.execute_input": "2021-07-02T03:02:46.192229Z",
     "iopub.status.busy": "2021-07-02T03:02:46.191320Z",
     "iopub.status.idle": "2021-07-02T03:02:46.204417Z",
     "shell.execute_reply": "2021-07-02T03:02:46.203811Z",
     "shell.execute_reply.started": "2021-07-02T02:43:33.324985Z"
    },
    "papermill": {
     "duration": 0.050806,
     "end_time": "2021-07-02T03:02:46.204569",
     "exception": false,
     "start_time": "2021-07-02T03:02:46.153763",
     "status": "completed"
    },
    "tags": []
   },
   "outputs": [
    {
     "data": {
      "text/html": [
       "<div>\n",
       "<style scoped>\n",
       "    .dataframe tbody tr th:only-of-type {\n",
       "        vertical-align: middle;\n",
       "    }\n",
       "\n",
       "    .dataframe tbody tr th {\n",
       "        vertical-align: top;\n",
       "    }\n",
       "\n",
       "    .dataframe thead th {\n",
       "        text-align: right;\n",
       "    }\n",
       "</style>\n",
       "<table border=\"1\" class=\"dataframe\">\n",
       "  <thead>\n",
       "    <tr style=\"text-align: right;\">\n",
       "      <th></th>\n",
       "      <th>PassengerId</th>\n",
       "      <th>Survived</th>\n",
       "      <th>Pclass</th>\n",
       "      <th>Age</th>\n",
       "      <th>SibSp</th>\n",
       "      <th>Parch</th>\n",
       "      <th>Fare</th>\n",
       "    </tr>\n",
       "  </thead>\n",
       "  <tbody>\n",
       "    <tr>\n",
       "      <th>PassengerId</th>\n",
       "      <td>1.000000</td>\n",
       "      <td>-0.005007</td>\n",
       "      <td>-0.035144</td>\n",
       "      <td>0.036847</td>\n",
       "      <td>-0.057527</td>\n",
       "      <td>-0.001652</td>\n",
       "      <td>0.012658</td>\n",
       "    </tr>\n",
       "    <tr>\n",
       "      <th>Survived</th>\n",
       "      <td>-0.005007</td>\n",
       "      <td>1.000000</td>\n",
       "      <td>-0.338481</td>\n",
       "      <td>-0.077221</td>\n",
       "      <td>-0.035322</td>\n",
       "      <td>0.081629</td>\n",
       "      <td>0.257307</td>\n",
       "    </tr>\n",
       "    <tr>\n",
       "      <th>Pclass</th>\n",
       "      <td>-0.035144</td>\n",
       "      <td>-0.338481</td>\n",
       "      <td>1.000000</td>\n",
       "      <td>-0.369226</td>\n",
       "      <td>0.083081</td>\n",
       "      <td>0.018443</td>\n",
       "      <td>-0.549500</td>\n",
       "    </tr>\n",
       "    <tr>\n",
       "      <th>Age</th>\n",
       "      <td>0.036847</td>\n",
       "      <td>-0.077221</td>\n",
       "      <td>-0.369226</td>\n",
       "      <td>1.000000</td>\n",
       "      <td>-0.308247</td>\n",
       "      <td>-0.189119</td>\n",
       "      <td>0.096067</td>\n",
       "    </tr>\n",
       "    <tr>\n",
       "      <th>SibSp</th>\n",
       "      <td>-0.057527</td>\n",
       "      <td>-0.035322</td>\n",
       "      <td>0.083081</td>\n",
       "      <td>-0.308247</td>\n",
       "      <td>1.000000</td>\n",
       "      <td>0.414838</td>\n",
       "      <td>0.159651</td>\n",
       "    </tr>\n",
       "    <tr>\n",
       "      <th>Parch</th>\n",
       "      <td>-0.001652</td>\n",
       "      <td>0.081629</td>\n",
       "      <td>0.018443</td>\n",
       "      <td>-0.189119</td>\n",
       "      <td>0.414838</td>\n",
       "      <td>1.000000</td>\n",
       "      <td>0.216225</td>\n",
       "    </tr>\n",
       "    <tr>\n",
       "      <th>Fare</th>\n",
       "      <td>0.012658</td>\n",
       "      <td>0.257307</td>\n",
       "      <td>-0.549500</td>\n",
       "      <td>0.096067</td>\n",
       "      <td>0.159651</td>\n",
       "      <td>0.216225</td>\n",
       "      <td>1.000000</td>\n",
       "    </tr>\n",
       "  </tbody>\n",
       "</table>\n",
       "</div>"
      ],
      "text/plain": [
       "             PassengerId  Survived    Pclass       Age     SibSp     Parch  \\\n",
       "PassengerId     1.000000 -0.005007 -0.035144  0.036847 -0.057527 -0.001652   \n",
       "Survived       -0.005007  1.000000 -0.338481 -0.077221 -0.035322  0.081629   \n",
       "Pclass         -0.035144 -0.338481  1.000000 -0.369226  0.083081  0.018443   \n",
       "Age             0.036847 -0.077221 -0.369226  1.000000 -0.308247 -0.189119   \n",
       "SibSp          -0.057527 -0.035322  0.083081 -0.308247  1.000000  0.414838   \n",
       "Parch          -0.001652  0.081629  0.018443 -0.189119  0.414838  1.000000   \n",
       "Fare            0.012658  0.257307 -0.549500  0.096067  0.159651  0.216225   \n",
       "\n",
       "                 Fare  \n",
       "PassengerId  0.012658  \n",
       "Survived     0.257307  \n",
       "Pclass      -0.549500  \n",
       "Age          0.096067  \n",
       "SibSp        0.159651  \n",
       "Parch        0.216225  \n",
       "Fare         1.000000  "
      ]
     },
     "execution_count": 9,
     "metadata": {},
     "output_type": "execute_result"
    }
   ],
   "source": [
    "dataset_train.corr()"
   ]
  },
  {
   "cell_type": "markdown",
   "metadata": {
    "papermill": {
     "duration": 0.031969,
     "end_time": "2021-07-02T03:02:46.268654",
     "exception": false,
     "start_time": "2021-07-02T03:02:46.236685",
     "status": "completed"
    },
    "tags": []
   },
   "source": [
    "## Preliminary infos we can get from the correlation matrix\n",
    "- The passengerId is not correlated to the survivability which confirms our hypothesis. <br>\n",
    "- The pclass is correlated negatively to the survivability, which means people in class 1 survived better than people in class 3. <br>\n",
    "- The fare is correlated positively to the survivability, which means people that paid a higher fare had a better chance of surviving. <br>\n",
    "- The age is not correlated to survivability which is surprising, we would have imagined that younger persons would have survived better than older ones. Maybe it is correlated but not in a linear way. <br>\n",
    "\n",
    "Let's see if we can bet any additional infos about the repartition of the data."
   ]
  },
  {
   "cell_type": "code",
   "execution_count": 10,
   "metadata": {
    "execution": {
     "iopub.execute_input": "2021-07-02T03:02:46.337357Z",
     "iopub.status.busy": "2021-07-02T03:02:46.336491Z",
     "iopub.status.idle": "2021-07-02T03:02:47.688767Z",
     "shell.execute_reply": "2021-07-02T03:02:47.688174Z",
     "shell.execute_reply.started": "2021-07-02T02:48:29.558839Z"
    },
    "papermill": {
     "duration": 1.388117,
     "end_time": "2021-07-02T03:02:47.688902",
     "exception": false,
     "start_time": "2021-07-02T03:02:46.300785",
     "status": "completed"
    },
    "tags": []
   },
   "outputs": [
    {
     "data": {
      "image/png": "[encoded data removed]",
      "text/plain": [
       "<Figure size 1440x1440 with 9 Axes>"
      ]
     },
     "metadata": {
      "needs_background": "light"
     },
     "output_type": "display_data"
    }
   ],
   "source": [
    "#dataset_train.plot(kind='density', subplots=True, layout=(4,2), sharex=False, figsize=(20,20))\n",
    "dataset_train.hist(figsize=(20,20));"
   ]
  },
  {
   "cell_type": "markdown",
   "metadata": {
    "papermill": {
     "duration": 0.032881,
     "end_time": "2021-07-02T03:02:47.754828",
     "exception": false,
     "start_time": "2021-07-02T03:02:47.721947",
     "status": "completed"
    },
    "tags": []
   },
   "source": [
    "## Preliminary infos we can get from the histogram plots\n",
    "- Most people traveled alone. <br>\n",
    "- Most people paid a fare less than $50. <br>\n",
    "- There is some very young children amongst the passengers. <br>\n",
    "- There is approximately the same amount of passengers in class 1 and 2. <br>\n",
    "\n",
    "Let's dive now a bit further in the features and how they affect the survival rate."
   ]
  },
  {
   "cell_type": "markdown",
   "metadata": {
    "papermill": {
     "duration": 0.0327,
     "end_time": "2021-07-02T03:02:47.820735",
     "exception": false,
     "start_time": "2021-07-02T03:02:47.788035",
     "status": "completed"
    },
    "tags": []
   },
   "source": [
    "## 3. Feature exploratory analysis\n",
    "\n",
    "What we would like to analyse :\n",
    "- The correlation of age and survivability\n",
    "- The correlation of sex and survivability\n",
    "- The correlation of the port of embarquation and survivability\n",
    "- Does the number of siblings or parents/children has an impact on survivability.\n",
    "- Who paid 0 and $512 for their ticket?"
   ]
  },
  {
   "cell_type": "markdown",
   "metadata": {
    "papermill": {
     "duration": 0.032815,
     "end_time": "2021-07-02T03:02:47.886646",
     "exception": false,
     "start_time": "2021-07-02T03:02:47.853831",
     "status": "completed"
    },
    "tags": []
   },
   "source": [
    "# START FROM HERE"
   ]
  },
  {
   "cell_type": "markdown",
   "metadata": {
    "papermill": {
     "duration": 0.03311,
     "end_time": "2021-07-02T03:02:47.953340",
     "exception": false,
     "start_time": "2021-07-02T03:02:47.920230",
     "status": "completed"
    },
    "tags": []
   },
   "source": [
    "Let's look at the two features with categories (sex and embarked)"
   ]
  },
  {
   "cell_type": "code",
   "execution_count": 11,
   "metadata": {
    "execution": {
     "iopub.execute_input": "2021-07-02T03:02:48.028383Z",
     "iopub.status.busy": "2021-07-02T03:02:48.027484Z",
     "iopub.status.idle": "2021-07-02T03:02:48.294437Z",
     "shell.execute_reply": "2021-07-02T03:02:48.293991Z",
     "shell.execute_reply.started": "2021-07-02T02:34:53.036742Z"
    },
    "papermill": {
     "duration": 0.307501,
     "end_time": "2021-07-02T03:02:48.294600",
     "exception": false,
     "start_time": "2021-07-02T03:02:47.987099",
     "status": "completed"
    },
    "tags": []
   },
   "outputs": [
    {
     "data": {
      "image/png": "[encoded data removed]",
      "text/plain": [
       "<Figure size 432x288 with 1 Axes>"
      ]
     },
     "metadata": {
      "needs_background": "light"
     },
     "output_type": "display_data"
    },
    {
     "data": {
      "image/png": "[encoded data removed]",
      "text/plain": [
       "<Figure size 432x288 with 1 Axes>"
      ]
     },
     "metadata": {
      "needs_background": "light"
     },
     "output_type": "display_data"
    }
   ],
   "source": [
    "for column in dataset_train.select_dtypes(include='object'):\n",
    "    if dataset_train[column].nunique() < 10:\n",
    "        sns.countplot(y=column, data=dataset_train)\n",
    "        plt.show()"
   ]
  },
  {
   "cell_type": "markdown",
   "metadata": {
    "papermill": {
     "duration": 0.033452,
     "end_time": "2021-07-02T03:02:48.362179",
     "exception": false,
     "start_time": "2021-07-02T03:02:48.328727",
     "status": "completed"
    },
    "tags": []
   },
   "source": [
    "There is a more men than women and most of the passengers embarked at the Southampton port.\n",
    "\n",
    "Now let's check if the features have an impoact on the survival rate."
   ]
  },
  {
   "cell_type": "markdown",
   "metadata": {
    "papermill": {
     "duration": 0.034291,
     "end_time": "2021-07-02T03:02:48.430247",
     "exception": false,
     "start_time": "2021-07-02T03:02:48.395956",
     "status": "completed"
    },
    "tags": []
   },
   "source": [
    "**Does sex and class have an impact on survival rate?**"
   ]
  },
  {
   "cell_type": "code",
   "execution_count": 12,
   "metadata": {
    "execution": {
     "iopub.execute_input": "2021-07-02T03:02:48.508749Z",
     "iopub.status.busy": "2021-07-02T03:02:48.504449Z",
     "iopub.status.idle": "2021-07-02T03:02:48.515159Z",
     "shell.execute_reply": "2021-07-02T03:02:48.514620Z",
     "shell.execute_reply.started": "2021-07-02T02:34:53.479474Z"
    },
    "papermill": {
     "duration": 0.051189,
     "end_time": "2021-07-02T03:02:48.515291",
     "exception": false,
     "start_time": "2021-07-02T03:02:48.464102",
     "status": "completed"
    },
    "tags": []
   },
   "outputs": [
    {
     "data": {
      "text/html": [
       "<div>\n",
       "<style scoped>\n",
       "    .dataframe tbody tr th:only-of-type {\n",
       "        vertical-align: middle;\n",
       "    }\n",
       "\n",
       "    .dataframe tbody tr th {\n",
       "        vertical-align: top;\n",
       "    }\n",
       "\n",
       "    .dataframe thead th {\n",
       "        text-align: right;\n",
       "    }\n",
       "</style>\n",
       "<table border=\"1\" class=\"dataframe\">\n",
       "  <thead>\n",
       "    <tr style=\"text-align: right;\">\n",
       "      <th></th>\n",
       "      <th>Sex</th>\n",
       "      <th>Survived</th>\n",
       "    </tr>\n",
       "  </thead>\n",
       "  <tbody>\n",
       "    <tr>\n",
       "      <th>0</th>\n",
       "      <td>female</td>\n",
       "      <td>0.742038</td>\n",
       "    </tr>\n",
       "    <tr>\n",
       "      <th>1</th>\n",
       "      <td>male</td>\n",
       "      <td>0.188908</td>\n",
       "    </tr>\n",
       "  </tbody>\n",
       "</table>\n",
       "</div>"
      ],
      "text/plain": [
       "      Sex  Survived\n",
       "0  female  0.742038\n",
       "1    male  0.188908"
      ]
     },
     "execution_count": 12,
     "metadata": {},
     "output_type": "execute_result"
    }
   ],
   "source": [
    "dataset_train[['Sex', 'Survived']].groupby(['Sex'], as_index=False).mean().sort_values(by='Survived', ascending=False)"
   ]
  },
  {
   "cell_type": "code",
   "execution_count": 13,
   "metadata": {
    "execution": {
     "iopub.execute_input": "2021-07-02T03:02:48.591216Z",
     "iopub.status.busy": "2021-07-02T03:02:48.590494Z",
     "iopub.status.idle": "2021-07-02T03:02:48.599741Z",
     "shell.execute_reply": "2021-07-02T03:02:48.599301Z",
     "shell.execute_reply.started": "2021-07-02T02:34:53.503429Z"
    },
    "papermill": {
     "duration": 0.05052,
     "end_time": "2021-07-02T03:02:48.599877",
     "exception": false,
     "start_time": "2021-07-02T03:02:48.549357",
     "status": "completed"
    },
    "tags": []
   },
   "outputs": [
    {
     "data": {
      "text/html": [
       "<div>\n",
       "<style scoped>\n",
       "    .dataframe tbody tr th:only-of-type {\n",
       "        vertical-align: middle;\n",
       "    }\n",
       "\n",
       "    .dataframe tbody tr th {\n",
       "        vertical-align: top;\n",
       "    }\n",
       "\n",
       "    .dataframe thead th {\n",
       "        text-align: right;\n",
       "    }\n",
       "</style>\n",
       "<table border=\"1\" class=\"dataframe\">\n",
       "  <thead>\n",
       "    <tr style=\"text-align: right;\">\n",
       "      <th></th>\n",
       "      <th>Pclass</th>\n",
       "      <th>Survived</th>\n",
       "    </tr>\n",
       "  </thead>\n",
       "  <tbody>\n",
       "    <tr>\n",
       "      <th>0</th>\n",
       "      <td>1</td>\n",
       "      <td>0.629630</td>\n",
       "    </tr>\n",
       "    <tr>\n",
       "      <th>1</th>\n",
       "      <td>2</td>\n",
       "      <td>0.472826</td>\n",
       "    </tr>\n",
       "    <tr>\n",
       "      <th>2</th>\n",
       "      <td>3</td>\n",
       "      <td>0.242363</td>\n",
       "    </tr>\n",
       "  </tbody>\n",
       "</table>\n",
       "</div>"
      ],
      "text/plain": [
       "   Pclass  Survived\n",
       "0       1  0.629630\n",
       "1       2  0.472826\n",
       "2       3  0.242363"
      ]
     },
     "execution_count": 13,
     "metadata": {},
     "output_type": "execute_result"
    }
   ],
   "source": [
    "dataset_train[['Pclass', 'Survived']].groupby(['Pclass'], as_index=False).mean().sort_values(by='Survived', ascending=False)"
   ]
  },
  {
   "cell_type": "code",
   "execution_count": 14,
   "metadata": {
    "execution": {
     "iopub.execute_input": "2021-07-02T03:02:48.691775Z",
     "iopub.status.busy": "2021-07-02T03:02:48.677096Z",
     "iopub.status.idle": "2021-07-02T03:02:48.977259Z",
     "shell.execute_reply": "2021-07-02T03:02:48.977712Z",
     "shell.execute_reply.started": "2021-07-02T02:34:53.527215Z"
    },
    "papermill": {
     "duration": 0.343501,
     "end_time": "2021-07-02T03:02:48.977904",
     "exception": false,
     "start_time": "2021-07-02T03:02:48.634403",
     "status": "completed"
    },
    "tags": []
   },
   "outputs": [
    {
     "data": {
      "text/plain": [
       "Text(0.5, 1.0, 'Survival rate vs Pclass and sex')"
      ]
     },
     "execution_count": 14,
     "metadata": {},
     "output_type": "execute_result"
    },
    {
     "data": {
      "image/png": "[encoded data removed]",
      "text/plain": [
       "<Figure size 432x288 with 1 Axes>"
      ]
     },
     "metadata": {
      "needs_background": "light"
     },
     "output_type": "display_data"
    }
   ],
   "source": [
    "ax = sns.barplot(x=\"Pclass\", y=\"Survived\", hue=\"Sex\", data=dataset_train)\n",
    "ax.set_title('Survival rate vs Pclass and sex')"
   ]
  },
  {
   "cell_type": "markdown",
   "metadata": {
    "papermill": {
     "duration": 0.035317,
     "end_time": "2021-07-02T03:02:49.049250",
     "exception": false,
     "start_time": "2021-07-02T03:02:49.013933",
     "status": "completed"
    },
    "tags": []
   },
   "source": [
    "Women had a better survival rate that men and a higher class meant more chance of surviving\n",
    "\n",
    "**Does the port has an importance?**"
   ]
  },
  {
   "cell_type": "code",
   "execution_count": 15,
   "metadata": {
    "execution": {
     "iopub.execute_input": "2021-07-02T03:02:49.131826Z",
     "iopub.status.busy": "2021-07-02T03:02:49.127697Z",
     "iopub.status.idle": "2021-07-02T03:02:49.138004Z",
     "shell.execute_reply": "2021-07-02T03:02:49.137562Z",
     "shell.execute_reply.started": "2021-07-02T02:34:53.981143Z"
    },
    "papermill": {
     "duration": 0.053273,
     "end_time": "2021-07-02T03:02:49.138140",
     "exception": false,
     "start_time": "2021-07-02T03:02:49.084867",
     "status": "completed"
    },
    "tags": []
   },
   "outputs": [
    {
     "data": {
      "text/html": [
       "<div>\n",
       "<style scoped>\n",
       "    .dataframe tbody tr th:only-of-type {\n",
       "        vertical-align: middle;\n",
       "    }\n",
       "\n",
       "    .dataframe tbody tr th {\n",
       "        vertical-align: top;\n",
       "    }\n",
       "\n",
       "    .dataframe thead th {\n",
       "        text-align: right;\n",
       "    }\n",
       "</style>\n",
       "<table border=\"1\" class=\"dataframe\">\n",
       "  <thead>\n",
       "    <tr style=\"text-align: right;\">\n",
       "      <th></th>\n",
       "      <th>Embarked</th>\n",
       "      <th>Survived</th>\n",
       "    </tr>\n",
       "  </thead>\n",
       "  <tbody>\n",
       "    <tr>\n",
       "      <th>0</th>\n",
       "      <td>C</td>\n",
       "      <td>0.553571</td>\n",
       "    </tr>\n",
       "    <tr>\n",
       "      <th>1</th>\n",
       "      <td>Q</td>\n",
       "      <td>0.389610</td>\n",
       "    </tr>\n",
       "    <tr>\n",
       "      <th>2</th>\n",
       "      <td>S</td>\n",
       "      <td>0.336957</td>\n",
       "    </tr>\n",
       "  </tbody>\n",
       "</table>\n",
       "</div>"
      ],
      "text/plain": [
       "  Embarked  Survived\n",
       "0        C  0.553571\n",
       "1        Q  0.389610\n",
       "2        S  0.336957"
      ]
     },
     "execution_count": 15,
     "metadata": {},
     "output_type": "execute_result"
    }
   ],
   "source": [
    "dataset_train[['Embarked', 'Survived']].groupby(['Embarked'], as_index=False).mean().sort_values(by='Survived', ascending=False)"
   ]
  },
  {
   "cell_type": "code",
   "execution_count": 16,
   "metadata": {
    "execution": {
     "iopub.execute_input": "2021-07-02T03:02:49.214640Z",
     "iopub.status.busy": "2021-07-02T03:02:49.214092Z",
     "iopub.status.idle": "2021-07-02T03:02:49.491273Z",
     "shell.execute_reply": "2021-07-02T03:02:49.491686Z",
     "shell.execute_reply.started": "2021-07-02T02:34:54.001107Z"
    },
    "papermill": {
     "duration": 0.317729,
     "end_time": "2021-07-02T03:02:49.491862",
     "exception": false,
     "start_time": "2021-07-02T03:02:49.174133",
     "status": "completed"
    },
    "tags": []
   },
   "outputs": [
    {
     "data": {
      "text/plain": [
       "Text(0.5, 1.0, 'Survival rate vs port and sex')"
      ]
     },
     "execution_count": 16,
     "metadata": {},
     "output_type": "execute_result"
    },
    {
     "data": {
      "image/png": "[encoded data removed]",
      "text/plain": [
       "<Figure size 432x288 with 1 Axes>"
      ]
     },
     "metadata": {
      "needs_background": "light"
     },
     "output_type": "display_data"
    }
   ],
   "source": [
    "ax = sns.barplot(x=\"Embarked\", y=\"Survived\", hue=\"Sex\", data=dataset_train)\n",
    "ax.set_title('Survival rate vs port and sex')"
   ]
  },
  {
   "cell_type": "markdown",
   "metadata": {
    "papermill": {
     "duration": 0.036273,
     "end_time": "2021-07-02T03:02:49.564629",
     "exception": false,
     "start_time": "2021-07-02T03:02:49.528356",
     "status": "completed"
    },
    "tags": []
   },
   "source": [
    "The port has an importance.\n",
    "\n",
    "**Does the number of siblings or spouse (SibSp) or parents and children (Parch) has an importance?**"
   ]
  },
  {
   "cell_type": "code",
   "execution_count": 17,
   "metadata": {
    "execution": {
     "iopub.execute_input": "2021-07-02T03:02:49.640010Z",
     "iopub.status.busy": "2021-07-02T03:02:49.639425Z",
     "iopub.status.idle": "2021-07-02T03:02:49.651148Z",
     "shell.execute_reply": "2021-07-02T03:02:49.651559Z",
     "shell.execute_reply.started": "2021-07-02T02:34:54.626355Z"
    },
    "papermill": {
     "duration": 0.050897,
     "end_time": "2021-07-02T03:02:49.651717",
     "exception": false,
     "start_time": "2021-07-02T03:02:49.600820",
     "status": "completed"
    },
    "tags": []
   },
   "outputs": [
    {
     "data": {
      "text/html": [
       "<div>\n",
       "<style scoped>\n",
       "    .dataframe tbody tr th:only-of-type {\n",
       "        vertical-align: middle;\n",
       "    }\n",
       "\n",
       "    .dataframe tbody tr th {\n",
       "        vertical-align: top;\n",
       "    }\n",
       "\n",
       "    .dataframe thead th {\n",
       "        text-align: right;\n",
       "    }\n",
       "</style>\n",
       "<table border=\"1\" class=\"dataframe\">\n",
       "  <thead>\n",
       "    <tr style=\"text-align: right;\">\n",
       "      <th></th>\n",
       "      <th>SibSp</th>\n",
       "      <th>Survived</th>\n",
       "    </tr>\n",
       "  </thead>\n",
       "  <tbody>\n",
       "    <tr>\n",
       "      <th>1</th>\n",
       "      <td>1</td>\n",
       "      <td>0.535885</td>\n",
       "    </tr>\n",
       "    <tr>\n",
       "      <th>2</th>\n",
       "      <td>2</td>\n",
       "      <td>0.464286</td>\n",
       "    </tr>\n",
       "    <tr>\n",
       "      <th>0</th>\n",
       "      <td>0</td>\n",
       "      <td>0.345395</td>\n",
       "    </tr>\n",
       "    <tr>\n",
       "      <th>3</th>\n",
       "      <td>3</td>\n",
       "      <td>0.250000</td>\n",
       "    </tr>\n",
       "    <tr>\n",
       "      <th>4</th>\n",
       "      <td>4</td>\n",
       "      <td>0.166667</td>\n",
       "    </tr>\n",
       "    <tr>\n",
       "      <th>5</th>\n",
       "      <td>5</td>\n",
       "      <td>0.000000</td>\n",
       "    </tr>\n",
       "    <tr>\n",
       "      <th>6</th>\n",
       "      <td>8</td>\n",
       "      <td>0.000000</td>\n",
       "    </tr>\n",
       "  </tbody>\n",
       "</table>\n",
       "</div>"
      ],
      "text/plain": [
       "   SibSp  Survived\n",
       "1      1  0.535885\n",
       "2      2  0.464286\n",
       "0      0  0.345395\n",
       "3      3  0.250000\n",
       "4      4  0.166667\n",
       "5      5  0.000000\n",
       "6      8  0.000000"
      ]
     },
     "execution_count": 17,
     "metadata": {},
     "output_type": "execute_result"
    }
   ],
   "source": [
    "dataset_train[[\"SibSp\", \"Survived\"]].groupby(['SibSp'], as_index=False).mean().sort_values(by='Survived', ascending=False)"
   ]
  },
  {
   "cell_type": "code",
   "execution_count": 18,
   "metadata": {
    "execution": {
     "iopub.execute_input": "2021-07-02T03:02:49.727652Z",
     "iopub.status.busy": "2021-07-02T03:02:49.727030Z",
     "iopub.status.idle": "2021-07-02T03:02:50.299761Z",
     "shell.execute_reply": "2021-07-02T03:02:50.299287Z",
     "shell.execute_reply.started": "2021-07-02T02:34:54.650045Z"
    },
    "papermill": {
     "duration": 0.611722,
     "end_time": "2021-07-02T03:02:50.299903",
     "exception": false,
     "start_time": "2021-07-02T03:02:49.688181",
     "status": "completed"
    },
    "tags": []
   },
   "outputs": [
    {
     "data": {
      "text/plain": [
       "Text(0.5, 1.0, 'Survival rate vs SibSp and sex')"
      ]
     },
     "execution_count": 18,
     "metadata": {},
     "output_type": "execute_result"
    },
    {
     "data": {
      "image/png": "[encoded data removed]",
      "text/plain": [
       "<Figure size 432x288 with 1 Axes>"
      ]
     },
     "metadata": {
      "needs_background": "light"
     },
     "output_type": "display_data"
    }
   ],
   "source": [
    "ax = sns.barplot(x=\"SibSp\", y=\"Survived\", hue=\"Sex\", data=dataset_train)\n",
    "ax.set_title('Survival rate vs SibSp and sex')"
   ]
  },
  {
   "cell_type": "code",
   "execution_count": 19,
   "metadata": {
    "execution": {
     "iopub.execute_input": "2021-07-02T03:02:50.382293Z",
     "iopub.status.busy": "2021-07-02T03:02:50.381739Z",
     "iopub.status.idle": "2021-07-02T03:02:50.389345Z",
     "shell.execute_reply": "2021-07-02T03:02:50.389854Z",
     "shell.execute_reply.started": "2021-07-02T02:34:55.424851Z"
    },
    "papermill": {
     "duration": 0.052308,
     "end_time": "2021-07-02T03:02:50.390010",
     "exception": false,
     "start_time": "2021-07-02T03:02:50.337702",
     "status": "completed"
    },
    "tags": []
   },
   "outputs": [
    {
     "data": {
      "text/html": [
       "<div>\n",
       "<style scoped>\n",
       "    .dataframe tbody tr th:only-of-type {\n",
       "        vertical-align: middle;\n",
       "    }\n",
       "\n",
       "    .dataframe tbody tr th {\n",
       "        vertical-align: top;\n",
       "    }\n",
       "\n",
       "    .dataframe thead th {\n",
       "        text-align: right;\n",
       "    }\n",
       "</style>\n",
       "<table border=\"1\" class=\"dataframe\">\n",
       "  <thead>\n",
       "    <tr style=\"text-align: right;\">\n",
       "      <th></th>\n",
       "      <th>Parch</th>\n",
       "      <th>Survived</th>\n",
       "    </tr>\n",
       "  </thead>\n",
       "  <tbody>\n",
       "    <tr>\n",
       "      <th>3</th>\n",
       "      <td>3</td>\n",
       "      <td>0.600000</td>\n",
       "    </tr>\n",
       "    <tr>\n",
       "      <th>1</th>\n",
       "      <td>1</td>\n",
       "      <td>0.550847</td>\n",
       "    </tr>\n",
       "    <tr>\n",
       "      <th>2</th>\n",
       "      <td>2</td>\n",
       "      <td>0.500000</td>\n",
       "    </tr>\n",
       "    <tr>\n",
       "      <th>0</th>\n",
       "      <td>0</td>\n",
       "      <td>0.343658</td>\n",
       "    </tr>\n",
       "    <tr>\n",
       "      <th>5</th>\n",
       "      <td>5</td>\n",
       "      <td>0.200000</td>\n",
       "    </tr>\n",
       "    <tr>\n",
       "      <th>4</th>\n",
       "      <td>4</td>\n",
       "      <td>0.000000</td>\n",
       "    </tr>\n",
       "    <tr>\n",
       "      <th>6</th>\n",
       "      <td>6</td>\n",
       "      <td>0.000000</td>\n",
       "    </tr>\n",
       "  </tbody>\n",
       "</table>\n",
       "</div>"
      ],
      "text/plain": [
       "   Parch  Survived\n",
       "3      3  0.600000\n",
       "1      1  0.550847\n",
       "2      2  0.500000\n",
       "0      0  0.343658\n",
       "5      5  0.200000\n",
       "4      4  0.000000\n",
       "6      6  0.000000"
      ]
     },
     "execution_count": 19,
     "metadata": {},
     "output_type": "execute_result"
    }
   ],
   "source": [
    "dataset_train[[\"Parch\", \"Survived\"]].groupby(['Parch'], as_index=False).mean().sort_values(by='Survived', ascending=False)"
   ]
  },
  {
   "cell_type": "code",
   "execution_count": 20,
   "metadata": {
    "execution": {
     "iopub.execute_input": "2021-07-02T03:02:50.469437Z",
     "iopub.status.busy": "2021-07-02T03:02:50.468604Z",
     "iopub.status.idle": "2021-07-02T03:02:50.915643Z",
     "shell.execute_reply": "2021-07-02T03:02:50.916103Z",
     "shell.execute_reply.started": "2021-07-02T02:34:55.449226Z"
    },
    "papermill": {
     "duration": 0.488176,
     "end_time": "2021-07-02T03:02:50.916263",
     "exception": false,
     "start_time": "2021-07-02T03:02:50.428087",
     "status": "completed"
    },
    "tags": []
   },
   "outputs": [
    {
     "data": {
      "text/plain": [
       "Text(0.5, 1.0, 'Survival rate vs Parch and sex')"
      ]
     },
     "execution_count": 20,
     "metadata": {},
     "output_type": "execute_result"
    },
    {
     "data": {
      "image/png": "[encoded data removed]",
      "text/plain": [
       "<Figure size 432x288 with 1 Axes>"
      ]
     },
     "metadata": {
      "needs_background": "light"
     },
     "output_type": "display_data"
    }
   ],
   "source": [
    "ax = sns.barplot(x=\"Parch\", y=\"Survived\", hue=\"Sex\", data=dataset_train)\n",
    "ax.set_title('Survival rate vs Parch and sex')"
   ]
  },
  {
   "cell_type": "markdown",
   "metadata": {
    "papermill": {
     "duration": 0.03802,
     "end_time": "2021-07-02T03:02:50.992621",
     "exception": false,
     "start_time": "2021-07-02T03:02:50.954601",
     "status": "completed"
    },
    "tags": []
   },
   "source": [
    "Both Sibsp and Parch seem to be important to estimate the survival rate of a passenger.\n",
    "\n",
    "**Let's see if the age impacts the rate of survival**"
   ]
  },
  {
   "cell_type": "code",
   "execution_count": 21,
   "metadata": {
    "execution": {
     "iopub.execute_input": "2021-07-02T03:02:51.073361Z",
     "iopub.status.busy": "2021-07-02T03:02:51.072558Z",
     "iopub.status.idle": "2021-07-02T03:02:51.348780Z",
     "shell.execute_reply": "2021-07-02T03:02:51.348319Z",
     "shell.execute_reply.started": "2021-07-02T02:34:56.175415Z"
    },
    "papermill": {
     "duration": 0.317531,
     "end_time": "2021-07-02T03:02:51.348915",
     "exception": false,
     "start_time": "2021-07-02T03:02:51.031384",
     "status": "completed"
    },
    "tags": []
   },
   "outputs": [
    {
     "data": {
      "text/plain": [
       "<AxesSubplot:xlabel='Age', ylabel='Count'>"
      ]
     },
     "execution_count": 21,
     "metadata": {},
     "output_type": "execute_result"
    },
    {
     "data": {
      "image/png": "[encoded data removed]",
      "text/plain": [
       "<Figure size 432x288 with 1 Axes>"
      ]
     },
     "metadata": {
      "needs_background": "light"
     },
     "output_type": "display_data"
    }
   ],
   "source": [
    "sns.histplot(data=dataset_train, x=\"Age\", hue=\"Survived\", multiple=\"stack\", bins=10)"
   ]
  },
  {
   "cell_type": "code",
   "execution_count": 22,
   "metadata": {
    "execution": {
     "iopub.execute_input": "2021-07-02T03:02:51.436313Z",
     "iopub.status.busy": "2021-07-02T03:02:51.434287Z",
     "iopub.status.idle": "2021-07-02T03:02:51.809154Z",
     "shell.execute_reply": "2021-07-02T03:02:51.808724Z",
     "shell.execute_reply.started": "2021-07-01T02:02:59.726027Z"
    },
    "papermill": {
     "duration": 0.421115,
     "end_time": "2021-07-02T03:02:51.809287",
     "exception": false,
     "start_time": "2021-07-02T03:02:51.388172",
     "status": "completed"
    },
    "tags": []
   },
   "outputs": [
    {
     "data": {
      "text/plain": [
       "Text(0.5, 1.0, 'Survival rate vs Pclass and sex')"
      ]
     },
     "execution_count": 22,
     "metadata": {},
     "output_type": "execute_result"
    },
    {
     "data": {
      "image/png": "[encoded data removed]",
      "text/plain": [
       "<Figure size 432x288 with 1 Axes>"
      ]
     },
     "metadata": {
      "needs_background": "light"
     },
     "output_type": "display_data"
    }
   ],
   "source": [
    "ax = sns.histplot(data=dataset_train, x='Fare', hue=\"Survived\", multiple=\"stack\", bins=50)\n",
    "ax.set_title('Survival rate vs Pclass and sex')"
   ]
  },
  {
   "cell_type": "markdown",
   "metadata": {
    "papermill": {
     "duration": 0.039612,
     "end_time": "2021-07-02T03:02:51.889335",
     "exception": false,
     "start_time": "2021-07-02T03:02:51.849723",
     "status": "completed"
    },
    "tags": []
   },
   "source": [
    "## 4. Data cleaning and feature selection\n",
    "\n",
    "**Let's fill missing data for fare.**\n",
    "**Let's create fare groups to display them more easily.**"
   ]
  },
  {
   "cell_type": "code",
   "execution_count": 23,
   "metadata": {
    "execution": {
     "iopub.execute_input": "2021-07-02T03:02:51.974862Z",
     "iopub.status.busy": "2021-07-02T03:02:51.974294Z",
     "iopub.status.idle": "2021-07-02T03:02:51.976691Z",
     "shell.execute_reply": "2021-07-02T03:02:51.977046Z",
     "shell.execute_reply.started": "2021-07-01T02:03:00.480656Z"
    },
    "papermill": {
     "duration": 0.046797,
     "end_time": "2021-07-02T03:02:51.977201",
     "exception": false,
     "start_time": "2021-07-02T03:02:51.930404",
     "status": "completed"
    },
    "tags": []
   },
   "outputs": [],
   "source": [
    "combine = [dataset_train, dataset_test]"
   ]
  },
  {
   "cell_type": "code",
   "execution_count": 24,
   "metadata": {
    "execution": {
     "iopub.execute_input": "2021-07-02T03:02:52.075054Z",
     "iopub.status.busy": "2021-07-02T03:02:52.072123Z",
     "iopub.status.idle": "2021-07-02T03:02:52.108705Z",
     "shell.execute_reply": "2021-07-02T03:02:52.108213Z",
     "shell.execute_reply.started": "2021-07-01T02:03:00.488915Z"
    },
    "papermill": {
     "duration": 0.091353,
     "end_time": "2021-07-02T03:02:52.108842",
     "exception": false,
     "start_time": "2021-07-02T03:02:52.017489",
     "status": "completed"
    },
    "tags": []
   },
   "outputs": [],
   "source": [
    "for dataset in combine:    \n",
    "    dataset['Fare'] = dataset['Fare'].fillna(dataset['Fare'].median())\n",
    "    dataset['Embarked'] = dataset['Embarked'].fillna('C')\n",
    "    dataset.loc[dataset['Fare'] == 0, 'Fare'] = dataset['Fare'].median()\n",
    "    dataset.loc[ dataset['Fare'] <= 10, 'Fare_class'] = \"Very cheap\"\n",
    "    dataset.loc[(dataset['Fare'] > 10) & (dataset['Fare'] <= 50), 'Fare_class'] = \"Cheap\"\n",
    "    dataset.loc[(dataset['Fare'] > 50) & (dataset['Fare'] <= 100), 'Fare_class'] = \"Expensive\"\n",
    "    dataset.loc[ dataset['Fare'] > 100, 'Fare_class'] = \"Very expensive\"\n",
    "    dataset['Age'] = dataset['Age'].fillna(dataset['Age'].median())\n",
    "    dataset.loc[ dataset['Age'] <= 16, 'Age_category'] = \"children\"\n",
    "    dataset.loc[(dataset['Age'] > 16) & (dataset['Age'] <= 35), 'Age_category'] = \"young_adults\"\n",
    "    dataset.loc[(dataset['Age'] > 35) & (dataset['Age'] <= 50), 'Age_category'] = \"adults\"\n",
    "    dataset.loc[(dataset['Age'] > 50), 'Age_category'] = \"senior\"\n",
    "    dataset['Sex'] = dataset['Sex'].map( {'male': 0, 'female': 1} ).astype(int)\n",
    "    dataset['Family'] = dataset['Parch']+dataset['SibSp']\n",
    "    dataset.loc[ dataset['Family'] < 1, 'Family'] = 0\n",
    "    dataset.loc[ dataset['Family'] >= 1, 'Family'] = 1\n",
    "    dataset['Title'] = dataset['Name'].str.extract(' ([A-Za-z]+)\\.', expand=False)\n",
    "    dataset['Title'] = dataset['Title'].replace(['Lady', 'Countess','Capt', 'Col','Don', 'Dr', 'Major', 'Rev', 'Sir', 'Jonkheer', 'Dona'], 'Rare')\n",
    "    dataset['Title'] = dataset['Title'].replace('Mlle', 'Miss')\n",
    "    dataset['Title'] = dataset['Title'].replace('Ms', 'Miss')\n",
    "    dataset['Title'] = dataset['Title'].replace('Mme', 'Mrs')\n",
    "    dataset['Cabin'] = dataset['Cabin'].astype(str).str[0]\n",
    "    \n",
    "dataset_train = dataset_train.drop(columns=['PassengerId', 'Ticket','Name'])\n",
    "dataset_test = dataset_test.drop(columns=['PassengerId', 'Ticket','Name'])\n",
    "dataset_train = dataset_train.drop(columns=['SibSp','Parch', 'Age', 'Fare'])\n",
    "dataset_test = dataset_test.drop(columns=['SibSp','Parch', 'Age', 'Fare'])"
   ]
  },
  {
   "cell_type": "code",
   "execution_count": 25,
   "metadata": {
    "execution": {
     "iopub.execute_input": "2021-07-02T03:02:52.206958Z",
     "iopub.status.busy": "2021-07-02T03:02:52.206140Z",
     "iopub.status.idle": "2021-07-02T03:02:52.210199Z",
     "shell.execute_reply": "2021-07-02T03:02:52.209685Z",
     "shell.execute_reply.started": "2021-07-01T02:03:00.559607Z"
    },
    "papermill": {
     "duration": 0.060321,
     "end_time": "2021-07-02T03:02:52.210329",
     "exception": false,
     "start_time": "2021-07-02T03:02:52.150008",
     "status": "completed"
    },
    "tags": []
   },
   "outputs": [
    {
     "data": {
      "text/html": [
       "<div>\n",
       "<style scoped>\n",
       "    .dataframe tbody tr th:only-of-type {\n",
       "        vertical-align: middle;\n",
       "    }\n",
       "\n",
       "    .dataframe tbody tr th {\n",
       "        vertical-align: top;\n",
       "    }\n",
       "\n",
       "    .dataframe thead th {\n",
       "        text-align: right;\n",
       "    }\n",
       "</style>\n",
       "<table border=\"1\" class=\"dataframe\">\n",
       "  <thead>\n",
       "    <tr style=\"text-align: right;\">\n",
       "      <th></th>\n",
       "      <th>Survived</th>\n",
       "      <th>Pclass</th>\n",
       "      <th>Sex</th>\n",
       "      <th>Cabin</th>\n",
       "      <th>Embarked</th>\n",
       "      <th>Fare_class</th>\n",
       "      <th>Age_category</th>\n",
       "      <th>Family</th>\n",
       "      <th>Title</th>\n",
       "    </tr>\n",
       "  </thead>\n",
       "  <tbody>\n",
       "    <tr>\n",
       "      <th>0</th>\n",
       "      <td>0</td>\n",
       "      <td>3</td>\n",
       "      <td>0</td>\n",
       "      <td>n</td>\n",
       "      <td>S</td>\n",
       "      <td>Very cheap</td>\n",
       "      <td>young_adults</td>\n",
       "      <td>1</td>\n",
       "      <td>Mr</td>\n",
       "    </tr>\n",
       "    <tr>\n",
       "      <th>1</th>\n",
       "      <td>1</td>\n",
       "      <td>1</td>\n",
       "      <td>1</td>\n",
       "      <td>C</td>\n",
       "      <td>C</td>\n",
       "      <td>Expensive</td>\n",
       "      <td>adults</td>\n",
       "      <td>1</td>\n",
       "      <td>Mrs</td>\n",
       "    </tr>\n",
       "    <tr>\n",
       "      <th>2</th>\n",
       "      <td>1</td>\n",
       "      <td>3</td>\n",
       "      <td>1</td>\n",
       "      <td>n</td>\n",
       "      <td>S</td>\n",
       "      <td>Very cheap</td>\n",
       "      <td>young_adults</td>\n",
       "      <td>0</td>\n",
       "      <td>Miss</td>\n",
       "    </tr>\n",
       "    <tr>\n",
       "      <th>3</th>\n",
       "      <td>1</td>\n",
       "      <td>1</td>\n",
       "      <td>1</td>\n",
       "      <td>C</td>\n",
       "      <td>S</td>\n",
       "      <td>Expensive</td>\n",
       "      <td>young_adults</td>\n",
       "      <td>1</td>\n",
       "      <td>Mrs</td>\n",
       "    </tr>\n",
       "    <tr>\n",
       "      <th>4</th>\n",
       "      <td>0</td>\n",
       "      <td>3</td>\n",
       "      <td>0</td>\n",
       "      <td>n</td>\n",
       "      <td>S</td>\n",
       "      <td>Very cheap</td>\n",
       "      <td>young_adults</td>\n",
       "      <td>0</td>\n",
       "      <td>Mr</td>\n",
       "    </tr>\n",
       "    <tr>\n",
       "      <th>...</th>\n",
       "      <td>...</td>\n",
       "      <td>...</td>\n",
       "      <td>...</td>\n",
       "      <td>...</td>\n",
       "      <td>...</td>\n",
       "      <td>...</td>\n",
       "      <td>...</td>\n",
       "      <td>...</td>\n",
       "      <td>...</td>\n",
       "    </tr>\n",
       "    <tr>\n",
       "      <th>886</th>\n",
       "      <td>0</td>\n",
       "      <td>2</td>\n",
       "      <td>0</td>\n",
       "      <td>n</td>\n",
       "      <td>S</td>\n",
       "      <td>Cheap</td>\n",
       "      <td>young_adults</td>\n",
       "      <td>0</td>\n",
       "      <td>Rare</td>\n",
       "    </tr>\n",
       "    <tr>\n",
       "      <th>887</th>\n",
       "      <td>1</td>\n",
       "      <td>1</td>\n",
       "      <td>1</td>\n",
       "      <td>B</td>\n",
       "      <td>S</td>\n",
       "      <td>Cheap</td>\n",
       "      <td>young_adults</td>\n",
       "      <td>0</td>\n",
       "      <td>Miss</td>\n",
       "    </tr>\n",
       "    <tr>\n",
       "      <th>888</th>\n",
       "      <td>0</td>\n",
       "      <td>3</td>\n",
       "      <td>1</td>\n",
       "      <td>n</td>\n",
       "      <td>S</td>\n",
       "      <td>Cheap</td>\n",
       "      <td>young_adults</td>\n",
       "      <td>1</td>\n",
       "      <td>Miss</td>\n",
       "    </tr>\n",
       "    <tr>\n",
       "      <th>889</th>\n",
       "      <td>1</td>\n",
       "      <td>1</td>\n",
       "      <td>0</td>\n",
       "      <td>C</td>\n",
       "      <td>C</td>\n",
       "      <td>Cheap</td>\n",
       "      <td>young_adults</td>\n",
       "      <td>0</td>\n",
       "      <td>Mr</td>\n",
       "    </tr>\n",
       "    <tr>\n",
       "      <th>890</th>\n",
       "      <td>0</td>\n",
       "      <td>3</td>\n",
       "      <td>0</td>\n",
       "      <td>n</td>\n",
       "      <td>Q</td>\n",
       "      <td>Very cheap</td>\n",
       "      <td>young_adults</td>\n",
       "      <td>0</td>\n",
       "      <td>Mr</td>\n",
       "    </tr>\n",
       "  </tbody>\n",
       "</table>\n",
       "<p>891 rows × 9 columns</p>\n",
       "</div>"
      ],
      "text/plain": [
       "     Survived  Pclass  Sex Cabin Embarked  Fare_class  Age_category  Family  \\\n",
       "0           0       3    0     n        S  Very cheap  young_adults       1   \n",
       "1           1       1    1     C        C   Expensive        adults       1   \n",
       "2           1       3    1     n        S  Very cheap  young_adults       0   \n",
       "3           1       1    1     C        S   Expensive  young_adults       1   \n",
       "4           0       3    0     n        S  Very cheap  young_adults       0   \n",
       "..        ...     ...  ...   ...      ...         ...           ...     ...   \n",
       "886         0       2    0     n        S       Cheap  young_adults       0   \n",
       "887         1       1    1     B        S       Cheap  young_adults       0   \n",
       "888         0       3    1     n        S       Cheap  young_adults       1   \n",
       "889         1       1    0     C        C       Cheap  young_adults       0   \n",
       "890         0       3    0     n        Q  Very cheap  young_adults       0   \n",
       "\n",
       "    Title  \n",
       "0      Mr  \n",
       "1     Mrs  \n",
       "2    Miss  \n",
       "3     Mrs  \n",
       "4      Mr  \n",
       "..    ...  \n",
       "886  Rare  \n",
       "887  Miss  \n",
       "888  Miss  \n",
       "889    Mr  \n",
       "890    Mr  \n",
       "\n",
       "[891 rows x 9 columns]"
      ]
     },
     "execution_count": 25,
     "metadata": {},
     "output_type": "execute_result"
    }
   ],
   "source": [
    "dataset_train"
   ]
  },
  {
   "cell_type": "code",
   "execution_count": 26,
   "metadata": {
    "execution": {
     "iopub.execute_input": "2021-07-02T03:02:52.305338Z",
     "iopub.status.busy": "2021-07-02T03:02:52.300288Z",
     "iopub.status.idle": "2021-07-02T03:02:52.309127Z",
     "shell.execute_reply": "2021-07-02T03:02:52.308556Z",
     "shell.execute_reply.started": "2021-07-01T02:03:00.585451Z"
    },
    "papermill": {
     "duration": 0.058003,
     "end_time": "2021-07-02T03:02:52.309263",
     "exception": false,
     "start_time": "2021-07-02T03:02:52.251260",
     "status": "completed"
    },
    "tags": []
   },
   "outputs": [
    {
     "name": "stdout",
     "output_type": "stream",
     "text": [
      "<class 'pandas.core.frame.DataFrame'>\n",
      "RangeIndex: 418 entries, 0 to 417\n",
      "Data columns (total 8 columns):\n",
      " #   Column        Non-Null Count  Dtype \n",
      "---  ------        --------------  ----- \n",
      " 0   Pclass        418 non-null    int64 \n",
      " 1   Sex           418 non-null    int64 \n",
      " 2   Cabin         418 non-null    object\n",
      " 3   Embarked      418 non-null    object\n",
      " 4   Fare_class    418 non-null    object\n",
      " 5   Age_category  418 non-null    object\n",
      " 6   Family        418 non-null    int64 \n",
      " 7   Title         418 non-null    object\n",
      "dtypes: int64(3), object(5)\n",
      "memory usage: 26.2+ KB\n"
     ]
    }
   ],
   "source": [
    "dataset_test.info()"
   ]
  },
  {
   "cell_type": "code",
   "execution_count": 27,
   "metadata": {
    "execution": {
     "iopub.execute_input": "2021-07-02T03:02:52.397888Z",
     "iopub.status.busy": "2021-07-02T03:02:52.397334Z",
     "iopub.status.idle": "2021-07-02T03:02:52.425851Z",
     "shell.execute_reply": "2021-07-02T03:02:52.426289Z",
     "shell.execute_reply.started": "2021-07-01T02:03:00.606611Z"
    },
    "papermill": {
     "duration": 0.076347,
     "end_time": "2021-07-02T03:02:52.426454",
     "exception": false,
     "start_time": "2021-07-02T03:02:52.350107",
     "status": "completed"
    },
    "tags": []
   },
   "outputs": [],
   "source": [
    "encode_col_list = list(dataset_train.select_dtypes(include=['object']).columns)\n",
    "for i in encode_col_list:\n",
    "    dataset_train = pd.concat([dataset_train,pd.get_dummies(dataset_train[i], prefix=i)],axis=1)\n",
    "    dataset_train.drop(i, axis = 1, inplace=True)\n",
    "    \n",
    "encode_col_list = list(dataset_test.select_dtypes(include=['object']).columns)\n",
    "for i in encode_col_list:\n",
    "    dataset_test = pd.concat([dataset_test,pd.get_dummies(dataset_test[i], prefix=i)],axis=1)\n",
    "    dataset_test.drop(i, axis = 1, inplace=True)"
   ]
  },
  {
   "cell_type": "code",
   "execution_count": 28,
   "metadata": {
    "execution": {
     "iopub.execute_input": "2021-07-02T03:02:52.512690Z",
     "iopub.status.busy": "2021-07-02T03:02:52.512136Z",
     "iopub.status.idle": "2021-07-02T03:02:57.019663Z",
     "shell.execute_reply": "2021-07-02T03:02:57.020108Z",
     "shell.execute_reply.started": "2021-07-01T02:03:00.652916Z"
    },
    "papermill": {
     "duration": 4.551337,
     "end_time": "2021-07-02T03:02:57.020270",
     "exception": false,
     "start_time": "2021-07-02T03:02:52.468933",
     "status": "completed"
    },
    "tags": []
   },
   "outputs": [
    {
     "data": {
      "image/png": "[encoded data removed]",
      "text/plain": [
       "<Figure size 720x576 with 2 Axes>"
      ]
     },
     "metadata": {
      "needs_background": "light"
     },
     "output_type": "display_data"
    }
   ],
   "source": [
    "plt.figure(figsize=(10,8))\n",
    "sns.heatmap(dataset_train.corr(), cmap='RdBu_r', annot=True)\n",
    "plt.show()"
   ]
  },
  {
   "cell_type": "code",
   "execution_count": 29,
   "metadata": {
    "execution": {
     "iopub.execute_input": "2021-07-02T03:02:57.122517Z",
     "iopub.status.busy": "2021-07-02T03:02:57.121955Z",
     "iopub.status.idle": "2021-07-02T03:02:57.134503Z",
     "shell.execute_reply": "2021-07-02T03:02:57.134988Z",
     "shell.execute_reply.started": "2021-07-01T02:03:06.207158Z"
    },
    "papermill": {
     "duration": 0.065416,
     "end_time": "2021-07-02T03:02:57.135149",
     "exception": false,
     "start_time": "2021-07-02T03:02:57.069733",
     "status": "completed"
    },
    "tags": []
   },
   "outputs": [
    {
     "name": "stdout",
     "output_type": "stream",
     "text": [
      "<class 'pandas.core.frame.DataFrame'>\n",
      "RangeIndex: 418 entries, 0 to 417\n",
      "Data columns (total 27 columns):\n",
      " #   Column                     Non-Null Count  Dtype\n",
      "---  ------                     --------------  -----\n",
      " 0   Pclass                     418 non-null    int64\n",
      " 1   Sex                        418 non-null    int64\n",
      " 2   Family                     418 non-null    int64\n",
      " 3   Cabin_A                    418 non-null    uint8\n",
      " 4   Cabin_B                    418 non-null    uint8\n",
      " 5   Cabin_C                    418 non-null    uint8\n",
      " 6   Cabin_D                    418 non-null    uint8\n",
      " 7   Cabin_E                    418 non-null    uint8\n",
      " 8   Cabin_F                    418 non-null    uint8\n",
      " 9   Cabin_G                    418 non-null    uint8\n",
      " 10  Cabin_n                    418 non-null    uint8\n",
      " 11  Embarked_C                 418 non-null    uint8\n",
      " 12  Embarked_Q                 418 non-null    uint8\n",
      " 13  Embarked_S                 418 non-null    uint8\n",
      " 14  Fare_class_Cheap           418 non-null    uint8\n",
      " 15  Fare_class_Expensive       418 non-null    uint8\n",
      " 16  Fare_class_Very cheap      418 non-null    uint8\n",
      " 17  Fare_class_Very expensive  418 non-null    uint8\n",
      " 18  Age_category_adults        418 non-null    uint8\n",
      " 19  Age_category_children      418 non-null    uint8\n",
      " 20  Age_category_senior        418 non-null    uint8\n",
      " 21  Age_category_young_adults  418 non-null    uint8\n",
      " 22  Title_Master               418 non-null    uint8\n",
      " 23  Title_Miss                 418 non-null    uint8\n",
      " 24  Title_Mr                   418 non-null    uint8\n",
      " 25  Title_Mrs                  418 non-null    uint8\n",
      " 26  Title_Rare                 418 non-null    uint8\n",
      "dtypes: int64(3), uint8(24)\n",
      "memory usage: 19.7 KB\n"
     ]
    }
   ],
   "source": [
    "dataset_test.info()"
   ]
  },
  {
   "cell_type": "markdown",
   "metadata": {
    "papermill": {
     "duration": 0.049399,
     "end_time": "2021-07-02T03:02:57.234648",
     "exception": false,
     "start_time": "2021-07-02T03:02:57.185249",
     "status": "completed"
    },
    "tags": []
   },
   "source": [
    "Let's try to fill the missing age values with a multiple linear regression algorithm "
   ]
  },
  {
   "cell_type": "code",
   "execution_count": 30,
   "metadata": {
    "execution": {
     "iopub.execute_input": "2021-07-02T03:02:57.339771Z",
     "iopub.status.busy": "2021-07-02T03:02:57.339190Z",
     "iopub.status.idle": "2021-07-02T03:02:57.341004Z",
     "shell.execute_reply": "2021-07-02T03:02:57.341381Z",
     "shell.execute_reply.started": "2021-07-01T02:03:06.23385Z"
    },
    "papermill": {
     "duration": 0.056675,
     "end_time": "2021-07-02T03:02:57.341563",
     "exception": false,
     "start_time": "2021-07-02T03:02:57.284888",
     "status": "completed"
    },
    "tags": []
   },
   "outputs": [],
   "source": [
    "#dataset_test['Survived'] = np.array([np.linspace(-1,-1,418)]).T\n",
    "#full_dataset = pd.concat(combine)\n",
    "#full_dataset.info()"
   ]
  },
  {
   "cell_type": "markdown",
   "metadata": {
    "papermill": {
     "duration": 0.049569,
     "end_time": "2021-07-02T03:02:57.442197",
     "exception": false,
     "start_time": "2021-07-02T03:02:57.392628",
     "status": "completed"
    },
    "tags": []
   },
   "source": [
    "Let's fill the missing values from Fare and Embarked with the median value and drop the name, Ticket and cabin"
   ]
  },
  {
   "cell_type": "code",
   "execution_count": 31,
   "metadata": {
    "execution": {
     "iopub.execute_input": "2021-07-02T03:02:57.544966Z",
     "iopub.status.busy": "2021-07-02T03:02:57.544416Z",
     "iopub.status.idle": "2021-07-02T03:02:57.547268Z",
     "shell.execute_reply": "2021-07-02T03:02:57.547710Z",
     "shell.execute_reply.started": "2021-07-01T02:03:06.25092Z"
    },
    "papermill": {
     "duration": 0.05571,
     "end_time": "2021-07-02T03:02:57.547862",
     "exception": false,
     "start_time": "2021-07-02T03:02:57.492152",
     "status": "completed"
    },
    "tags": []
   },
   "outputs": [],
   "source": [
    "#full_dataset['Fare'] = full_dataset['Fare'].fillna(full_dataset['Fare'].median())\n",
    "#full_dataset['Embarked'] = full_dataset['Embarked'].fillna('C')\n",
    "#full_dataset['Age'] = full_dataset['Age'].fillna(-1)\n",
    "#full_dataset['Embarked'] = full_dataset['Embarked'].map( {'S': 0, 'C': 1, 'Q': 2} ).astype(int)\n",
    "#full_dataset['Sex'] = full_dataset['Sex'].map( {'male': 0, 'female': 1} ).astype(int)\n",
    "#full_dataset = full_dataset.drop(columns=['PassengerId','Name', 'Ticket', 'Cabin'])\n",
    "#full_dataset.info()"
   ]
  },
  {
   "cell_type": "code",
   "execution_count": 32,
   "metadata": {
    "execution": {
     "iopub.execute_input": "2021-07-02T03:02:57.650320Z",
     "iopub.status.busy": "2021-07-02T03:02:57.649821Z",
     "iopub.status.idle": "2021-07-02T03:02:57.652667Z",
     "shell.execute_reply": "2021-07-02T03:02:57.653097Z",
     "shell.execute_reply.started": "2021-07-01T02:03:06.26454Z"
    },
    "papermill": {
     "duration": 0.055751,
     "end_time": "2021-07-02T03:02:57.653256",
     "exception": false,
     "start_time": "2021-07-02T03:02:57.597505",
     "status": "completed"
    },
    "tags": []
   },
   "outputs": [],
   "source": [
    "#df_age = full_dataset.drop(columns=['Survived'])\n",
    "#df_age.info()"
   ]
  },
  {
   "cell_type": "code",
   "execution_count": 33,
   "metadata": {
    "execution": {
     "iopub.execute_input": "2021-07-02T03:02:57.756055Z",
     "iopub.status.busy": "2021-07-02T03:02:57.755480Z",
     "iopub.status.idle": "2021-07-02T03:02:57.758072Z",
     "shell.execute_reply": "2021-07-02T03:02:57.758475Z",
     "shell.execute_reply.started": "2021-07-01T02:03:06.277045Z"
    },
    "papermill": {
     "duration": 0.055471,
     "end_time": "2021-07-02T03:02:57.758655",
     "exception": false,
     "start_time": "2021-07-02T03:02:57.703184",
     "status": "completed"
    },
    "tags": []
   },
   "outputs": [],
   "source": [
    "#df_age_to_predict = df_age[df_age['Age'] < 0]\n",
    "#df_age = df_age[df_age['Age'] >= 0]"
   ]
  },
  {
   "cell_type": "code",
   "execution_count": 34,
   "metadata": {
    "execution": {
     "iopub.execute_input": "2021-07-02T03:02:57.861631Z",
     "iopub.status.busy": "2021-07-02T03:02:57.861094Z",
     "iopub.status.idle": "2021-07-02T03:02:57.863899Z",
     "shell.execute_reply": "2021-07-02T03:02:57.864290Z",
     "shell.execute_reply.started": "2021-07-01T02:03:06.288996Z"
    },
    "papermill": {
     "duration": 0.056158,
     "end_time": "2021-07-02T03:02:57.864482",
     "exception": false,
     "start_time": "2021-07-02T03:02:57.808324",
     "status": "completed"
    },
    "tags": []
   },
   "outputs": [],
   "source": [
    "#X = df_age.drop(columns=['Age'])\n",
    "#y = df_age.iloc[:, 2].values\n",
    "#X_pred = df_age_to_predict.drop(columns=['Age'])\n",
    "#y = np.array([y]).T\n",
    "#print(y)"
   ]
  },
  {
   "cell_type": "code",
   "execution_count": 35,
   "metadata": {
    "execution": {
     "iopub.execute_input": "2021-07-02T03:02:57.968604Z",
     "iopub.status.busy": "2021-07-02T03:02:57.968021Z",
     "iopub.status.idle": "2021-07-02T03:02:57.971757Z",
     "shell.execute_reply": "2021-07-02T03:02:57.972135Z",
     "shell.execute_reply.started": "2021-07-01T02:03:06.301029Z"
    },
    "papermill": {
     "duration": 0.058027,
     "end_time": "2021-07-02T03:02:57.972299",
     "exception": false,
     "start_time": "2021-07-02T03:02:57.914272",
     "status": "completed"
    },
    "tags": []
   },
   "outputs": [],
   "source": [
    "#from sklearn.model_selection import train_test_split\n",
    "#from sklearn.linear_model import LinearRegression\n",
    "#X_train, X_test, y_train, y_test = train_test_split(X, y, test_size = 0.2, random_state = 0)\n",
    "#regressor = LinearRegression()\n",
    "#regressor.fit(X_train, y_train)\n",
    "\n",
    "#y_pred_linear_regression = regressor.predict(X_test)\n",
    "#np.set_printoptions(precision=2)\n",
    "#print(np.concatenate((y_pred_linear_regression.reshape(len(y_pred_linear_regression),1), y_test.reshape(len(y_test),1)),1))\n",
    "\n",
    "#from sklearn.tree import DecisionTreeRegressor\n",
    "#regressor_decision_tree = DecisionTreeRegressor(random_state = 0)\n",
    "#regressor_decision_tree.fit(X_train, y_train)\n",
    "\n",
    "#y_pred_decision_tree = regressor_decision_tree.predict(X_test)\n",
    "#np.set_printoptions(precision=2)\n",
    "#print(np.concatenate((y_pred_decision_tree.reshape(len(y_pred_decision_tree),1), y_test.reshape(len(y_test),1)),1))\n",
    "\n",
    "#from sklearn.ensemble import RandomForestRegressor\n",
    "#regressor_random_forest = RandomForestRegressor(n_estimators = 10, random_state = 0)\n",
    "#regressor_random_forest.fit(X_train, y_train)\n",
    "\n",
    "#y_pred_random_forest = regressor_random_forest.predict(X_test)\n",
    "#np.set_printoptions(precision=2)\n",
    "#print(np.concatenate((y_pred_random_forest.reshape(len(y_pred_random_forest),1), y_test.reshape(len(y_test),1)),1))\n",
    "\n",
    "#from sklearn.metrics import r2_score, max_error, mean_absolute_error, mean_squared_error\n",
    "#data = [['Multiple linear regression', r2_score(y_test, y_pred_linear_regression), max_error(y_test, y_pred_linear_regression), mean_absolute_error(y_test, y_pred_linear_regression), mean_squared_error(y_test, y_pred_linear_regression)],\n",
    "#['Polynomial regression', r2_score(y_test, y_pred_polynomial_regression), max_error(y_test, y_pred_polynomial_regression), mean_absolute_error(y_test, y_pred_polynomial_regression), mean_squared_error(y_test, y_pred_polynomial_regression)],\n",
    "#['Decision tree', r2_score(y_test, y_pred_decision_tree), max_error(y_test, y_pred_decision_tree), mean_absolute_error(y_test, y_pred_decision_tree), mean_squared_error(y_test, y_pred_decision_tree)],\n",
    "#['Random forest regression', r2_score(y_test, y_pred_random_forest), max_error(y_test, y_pred_random_forest), mean_absolute_error(y_test, y_pred_random_forest), mean_squared_error(y_test, y_pred_random_forest)]] \n",
    "#headers_1=[\"1\", \"2\", \"3\", \"4\"] \n",
    "#headers_2=[\"Algorithm\", \"R² score\", \"Max error\", \"Mean absolute error\", \"Mean squared error\"] \n",
    "#print(pd.DataFrame(data, headers_1, headers_2))\n",
    "\n",
    "\n",
    "#y_pred = regressor.predict(X_pred)\n",
    "#y_pred = np.array(y_pred)\n",
    "#print(y_pred)\n",
    "\n",
    "#full_dataset.loc[full_dataset['Age'] < 0, 'Age'] = y_pred\n",
    "#print(full_dataset)\n",
    "\n",
    "#X = full_dataset[full_dataset['Survived'] != -1]\n",
    "#y = X['Survived']\n",
    "#X = X.drop(columns=['Survived'])\n",
    "#y = np.array([y]).T\n",
    "#X_pred = full_dataset[full_dataset['Survived'] == -1]\n",
    "#X_pred = X_pred.drop(columns=['Survived'])"
   ]
  },
  {
   "cell_type": "markdown",
   "metadata": {
    "papermill": {
     "duration": 0.049858,
     "end_time": "2021-07-02T03:02:58.071937",
     "exception": false,
     "start_time": "2021-07-02T03:02:58.022079",
     "status": "completed"
    },
    "tags": []
   },
   "source": [
    "## 5. Model Preparation"
   ]
  },
  {
   "cell_type": "code",
   "execution_count": 36,
   "metadata": {
    "execution": {
     "iopub.execute_input": "2021-07-02T03:02:58.175734Z",
     "iopub.status.busy": "2021-07-02T03:02:58.174815Z",
     "iopub.status.idle": "2021-07-02T03:02:58.180556Z",
     "shell.execute_reply": "2021-07-02T03:02:58.180942Z",
     "shell.execute_reply.started": "2021-07-01T02:03:06.315002Z"
    },
    "papermill": {
     "duration": 0.059361,
     "end_time": "2021-07-02T03:02:58.181108",
     "exception": false,
     "start_time": "2021-07-02T03:02:58.121747",
     "status": "completed"
    },
    "tags": []
   },
   "outputs": [],
   "source": [
    "X = dataset_train.drop(columns=['Survived'])\n",
    "y = np.ravel(np.array([dataset_train['Survived']]).T)\n",
    "\n",
    "X_pred = dataset_test\n",
    "\n",
    "folds = KFold(n_splits=10, shuffle=True, random_state=0)"
   ]
  },
  {
   "cell_type": "code",
   "execution_count": 37,
   "metadata": {
    "execution": {
     "iopub.execute_input": "2021-07-02T03:02:58.285257Z",
     "iopub.status.busy": "2021-07-02T03:02:58.284332Z",
     "iopub.status.idle": "2021-07-02T03:02:58.289301Z",
     "shell.execute_reply": "2021-07-02T03:02:58.289810Z",
     "shell.execute_reply.started": "2021-07-01T02:03:06.335302Z"
    },
    "papermill": {
     "duration": 0.058738,
     "end_time": "2021-07-02T03:02:58.289972",
     "exception": false,
     "start_time": "2021-07-02T03:02:58.231234",
     "status": "completed"
    },
    "tags": []
   },
   "outputs": [],
   "source": [
    "missing_columns = set(X.columns.to_list()) - set(X_pred.columns.to_list())\n",
    "for col in list(missing_columns):\n",
    "    X_pred[col] = 0"
   ]
  },
  {
   "cell_type": "code",
   "execution_count": 38,
   "metadata": {
    "execution": {
     "iopub.execute_input": "2021-07-02T03:02:58.417815Z",
     "iopub.status.busy": "2021-07-02T03:02:58.416863Z",
     "iopub.status.idle": "2021-07-02T03:02:58.681705Z",
     "shell.execute_reply": "2021-07-02T03:02:58.682122Z",
     "shell.execute_reply.started": "2021-07-01T02:03:06.347029Z"
    },
    "papermill": {
     "duration": 0.342043,
     "end_time": "2021-07-02T03:02:58.682279",
     "exception": false,
     "start_time": "2021-07-02T03:02:58.340236",
     "status": "completed"
    },
    "tags": []
   },
   "outputs": [
    {
     "name": "stdout",
     "output_type": "stream",
     "text": [
      "Accuracy :  80.24 %\n",
      "Standard deviation :  3.17 %\n"
     ]
    }
   ],
   "source": [
    "logreg = LogisticRegression();\n",
    "cv_score = cross_val_score(logreg, X, y,cv=folds);\n",
    "logreg.fit(X, y)\n",
    "print('Accuracy : ', round(cv_score.mean()*100,2), '%')\n",
    "print('Standard deviation : ', round(cv_score.std()*100,2), '%')"
   ]
  },
  {
   "cell_type": "code",
   "execution_count": 39,
   "metadata": {
    "execution": {
     "iopub.execute_input": "2021-07-02T03:02:58.787861Z",
     "iopub.status.busy": "2021-07-02T03:02:58.787119Z",
     "iopub.status.idle": "2021-07-02T03:02:58.885099Z",
     "shell.execute_reply": "2021-07-02T03:02:58.884577Z",
     "shell.execute_reply.started": "2021-07-01T02:03:06.655219Z"
    },
    "papermill": {
     "duration": 0.153064,
     "end_time": "2021-07-02T03:02:58.885230",
     "exception": false,
     "start_time": "2021-07-02T03:02:58.732166",
     "status": "completed"
    },
    "tags": []
   },
   "outputs": [
    {
     "name": "stdout",
     "output_type": "stream",
     "text": [
      "Accuracy :  77.33 %\n",
      "Standard deviation :  7.26 %\n"
     ]
    }
   ],
   "source": [
    "knn = KNeighborsClassifier(n_neighbors = 5)\n",
    "cv_score = cross_val_score(knn, X, y,cv=folds);\n",
    "print('Accuracy : ', round(cv_score.mean()*100,2), '%')\n",
    "print('Standard deviation : ', round(cv_score.std()*100,2), '%')"
   ]
  },
  {
   "cell_type": "code",
   "execution_count": 40,
   "metadata": {
    "execution": {
     "iopub.execute_input": "2021-07-02T03:02:58.993312Z",
     "iopub.status.busy": "2021-07-02T03:02:58.992785Z",
     "iopub.status.idle": "2021-07-02T03:02:59.055072Z",
     "shell.execute_reply": "2021-07-02T03:02:59.054356Z",
     "shell.execute_reply.started": "2021-07-01T02:03:06.790612Z"
    },
    "papermill": {
     "duration": 0.119321,
     "end_time": "2021-07-02T03:02:59.055257",
     "exception": false,
     "start_time": "2021-07-02T03:02:58.935936",
     "status": "completed"
    },
    "tags": []
   },
   "outputs": [
    {
     "name": "stdout",
     "output_type": "stream",
     "text": [
      "Accuracy :  80.25 %\n",
      "Standard deviation :  2.51 %\n"
     ]
    }
   ],
   "source": [
    "decision_tree = DecisionTreeClassifier()\n",
    "cv_score = cross_val_score(decision_tree, X, y,cv=folds);\n",
    "print('Accuracy : ', round(cv_score.mean()*100,2), '%')\n",
    "print('Standard deviation : ', round(cv_score.std()*100,2), '%')"
   ]
  },
  {
   "cell_type": "code",
   "execution_count": 41,
   "metadata": {
    "execution": {
     "iopub.execute_input": "2021-07-02T03:02:59.166082Z",
     "iopub.status.busy": "2021-07-02T03:02:59.165180Z",
     "iopub.status.idle": "2021-07-02T03:03:00.796935Z",
     "shell.execute_reply": "2021-07-02T03:03:00.796444Z",
     "shell.execute_reply.started": "2021-07-01T02:03:06.876433Z"
    },
    "papermill": {
     "duration": 1.689748,
     "end_time": "2021-07-02T03:03:00.797066",
     "exception": false,
     "start_time": "2021-07-02T03:02:59.107318",
     "status": "completed"
    },
    "tags": []
   },
   "outputs": [
    {
     "name": "stdout",
     "output_type": "stream",
     "text": [
      "Accuracy :  80.81 %\n",
      "Standard deviation :  1.72 %\n"
     ]
    }
   ],
   "source": [
    "random_forest = RandomForestClassifier(n_estimators=100)\n",
    "cv_score = cross_val_score(random_forest, X, y,cv=folds);\n",
    "print('Accuracy : ', round(cv_score.mean()*100,2), '%')\n",
    "print('Standard deviation : ', round(cv_score.std()*100,2), '%')"
   ]
  },
  {
   "cell_type": "code",
   "execution_count": 42,
   "metadata": {
    "execution": {
     "iopub.execute_input": "2021-07-02T03:03:00.904555Z",
     "iopub.status.busy": "2021-07-02T03:03:00.903955Z",
     "iopub.status.idle": "2021-07-02T03:03:00.906486Z",
     "shell.execute_reply": "2021-07-02T03:03:00.906905Z",
     "shell.execute_reply.started": "2021-07-01T02:03:09.177125Z"
    },
    "papermill": {
     "duration": 0.058895,
     "end_time": "2021-07-02T03:03:00.907060",
     "exception": false,
     "start_time": "2021-07-02T03:03:00.848165",
     "status": "completed"
    },
    "tags": []
   },
   "outputs": [],
   "source": [
    "rfc=RandomForestClassifier(random_state=0)\n",
    "param_grid = { \n",
    "    'n_estimators': [100, 200, 300],\n",
    "    'max_features': ['auto', 'sqrt', 'log2'],\n",
    "    'min_samples_split': [2,4,10],\n",
    "    'criterion' :['gini', 'entropy']\n",
    "}\n",
    "#CV_rfc = GridSearchCV(estimator=rfc, param_grid=param_grid, cv= 5)\n",
    "#CV_rfc.fit(X_train, y_train)\n",
    "#CV_rfc.best_params_"
   ]
  },
  {
   "cell_type": "code",
   "execution_count": 43,
   "metadata": {
    "execution": {
     "iopub.execute_input": "2021-07-02T03:03:01.014148Z",
     "iopub.status.busy": "2021-07-02T03:03:01.013515Z",
     "iopub.status.idle": "2021-07-02T03:03:01.016897Z",
     "shell.execute_reply": "2021-07-02T03:03:01.016331Z",
     "shell.execute_reply.started": "2021-07-01T02:03:09.186294Z"
    },
    "papermill": {
     "duration": 0.058978,
     "end_time": "2021-07-02T03:03:01.017029",
     "exception": false,
     "start_time": "2021-07-02T03:03:00.958051",
     "status": "completed"
    },
    "tags": []
   },
   "outputs": [],
   "source": [
    "#grid_search_cv = GridSearchCV(rfc, param_grid, verbose=10, cv=10)\n",
    "#grid_search_cv.fit(X, y)\n",
    "#grid_search_cv.best_params_"
   ]
  },
  {
   "cell_type": "code",
   "execution_count": 44,
   "metadata": {
    "execution": {
     "iopub.execute_input": "2021-07-02T03:03:01.128051Z",
     "iopub.status.busy": "2021-07-02T03:03:01.127053Z",
     "iopub.status.idle": "2021-07-02T03:03:04.433048Z",
     "shell.execute_reply": "2021-07-02T03:03:04.432581Z",
     "shell.execute_reply.started": "2021-07-01T02:03:09.202137Z"
    },
    "papermill": {
     "duration": 3.363709,
     "end_time": "2021-07-02T03:03:04.433190",
     "exception": false,
     "start_time": "2021-07-02T03:03:01.069481",
     "status": "completed"
    },
    "tags": []
   },
   "outputs": [
    {
     "name": "stdout",
     "output_type": "stream",
     "text": [
      "Accuracy :  81.93 %\n",
      "Standard deviation :  2.88 %\n"
     ]
    }
   ],
   "source": [
    "rfc1=RandomForestClassifier(random_state=0, max_features='log2', n_estimators= 200, min_samples_split=2, criterion='entropy')\n",
    "cv_score = cross_val_score(rfc1, X, y,cv=folds);\n",
    "print('Accuracy : ', round(cv_score.mean()*100,2), '%')\n",
    "print('Standard deviation : ', round(cv_score.std()*100,2), '%')"
   ]
  },
  {
   "cell_type": "code",
   "execution_count": 45,
   "metadata": {
    "execution": {
     "iopub.execute_input": "2021-07-02T03:03:04.543685Z",
     "iopub.status.busy": "2021-07-02T03:03:04.543099Z",
     "iopub.status.idle": "2021-07-02T03:03:04.546742Z",
     "shell.execute_reply": "2021-07-02T03:03:04.547142Z",
     "shell.execute_reply.started": "2021-07-01T02:03:13.760809Z"
    },
    "papermill": {
     "duration": 0.058912,
     "end_time": "2021-07-02T03:03:04.547298",
     "exception": false,
     "start_time": "2021-07-02T03:03:04.488386",
     "status": "completed"
    },
    "tags": []
   },
   "outputs": [],
   "source": [
    "#dt1=DecisionTreeClassifier(random_state=0, criterion='entropy', max_depth=4, max_leaf_nodes=15, min_samples_split= 2)\n",
    "#dt1.fit(X_train, y_train)\n",
    "#print(round(rfc1.score(X_test, y_test) * 100, 2))"
   ]
  },
  {
   "cell_type": "code",
   "execution_count": 46,
   "metadata": {
    "execution": {
     "iopub.execute_input": "2021-07-02T03:03:04.656495Z",
     "iopub.status.busy": "2021-07-02T03:03:04.655941Z",
     "iopub.status.idle": "2021-07-02T03:03:05.004946Z",
     "shell.execute_reply": "2021-07-02T03:03:05.004398Z",
     "shell.execute_reply.started": "2021-07-01T02:03:49.546374Z"
    },
    "papermill": {
     "duration": 0.406589,
     "end_time": "2021-07-02T03:03:05.005087",
     "exception": false,
     "start_time": "2021-07-02T03:03:04.598498",
     "status": "completed"
    },
    "tags": []
   },
   "outputs": [
    {
     "name": "stdout",
     "output_type": "stream",
     "text": [
      "Your submission was successfully saved!\n"
     ]
    }
   ],
   "source": [
    "rfc1.fit(X,y)\n",
    "y_pred = rfc1.predict(X_pred).astype(int)\n",
    "output = pd.DataFrame({'PassengerId': pd.read_csv(\"/kaggle/input/titanic/test.csv\").PassengerId, 'Survived': y_pred})\n",
    "output.to_csv('my_submission.csv', index=False)\n",
    "print(\"Your submission was successfully saved!\")"
   ]
  },
  {
   "cell_type": "code",
   "execution_count": 47,
   "metadata": {
    "execution": {
     "iopub.execute_input": "2021-07-02T03:03:05.113452Z",
     "iopub.status.busy": "2021-07-02T03:03:05.112869Z",
     "iopub.status.idle": "2021-07-02T03:03:05.115666Z",
     "shell.execute_reply": "2021-07-02T03:03:05.115127Z"
    },
    "papermill": {
     "duration": 0.058822,
     "end_time": "2021-07-02T03:03:05.115804",
     "exception": false,
     "start_time": "2021-07-02T03:03:05.056982",
     "status": "completed"
    },
    "tags": []
   },
   "outputs": [],
   "source": [
    "#plt.figure(figsize=(10,8))\n",
    "#sns.heatmap(X_train.corr(), cmap='RdBu_r', annot=True)\n",
    "#plt.show()"
   ]
  }
 ],
 "metadata": {
  "kernelspec": {
   "display_name": "Python 3",
   "language": "python",
   "name": "python3"
  },
  "language_info": {
   "codemirror_mode": {
    "name": "ipython",
    "version": 3
   },
   "file_extension": ".py",
   "mimetype": "text/x-python",
   "name": "python",
   "nbconvert_exporter": "python",
   "pygments_lexer": "ipython3",
   "version": "3.7.9"
  },
  "papermill": {
   "default_parameters": {},
   "duration": 27.287403,
   "end_time": "2021-07-02T03:03:05.876413",
   "environment_variables": {},
   "exception": null,
   "input_path": "__notebook__.ipynb",
   "output_path": "__notebook__.ipynb",
   "parameters": {},
   "start_time": "2021-07-02T03:02:38.589010",
   "version": "2.2.2"
  }
 },
 "nbformat": 4,
 "nbformat_minor": 4
}
